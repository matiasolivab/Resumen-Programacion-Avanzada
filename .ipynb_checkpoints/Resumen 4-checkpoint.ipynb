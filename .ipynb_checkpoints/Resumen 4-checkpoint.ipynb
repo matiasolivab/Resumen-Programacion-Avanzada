{
 "cells": [
  {
   "cell_type": "markdown",
   "id": "a1230bc2",
   "metadata": {},
   "source": [
    "<p>\n",
    "<font size='5' face='Georgia, Arial'>Resumen 4: Programación Avanzada</font><br>\n",
    "<font size='1'>Resumen sobre el material entregado por iic2233. Modificado el 2023-1</font>\n",
    "<br>\n",
    "</p>"
   ]
  },
  {
   "cell_type": "markdown",
   "id": "5271e2a0",
   "metadata": {},
   "source": [
    "# Tabla de contenidos\n",
    "\n",
    "1. [Excepciones](#Excepciones)\n",
    "2. [Tipos de excepciones](#Tipos-de-excepciones)\n",
    "3. [Levantando excepciones: `raise`](#Levantando-excepciones:-raise)\n",
    "4. [Manejo de Excepciones: `try` y `except`](#Manejo-de-Excepciones:-try-y-except)\n",
    "5. [Clases de Excepciones](#Clases-de-Excepciones)\n",
    "6. [Excepciones personalizadas](#Excepciones-personalizadas)"
   ]
  },
  {
   "cell_type": "markdown",
   "id": "c129440e",
   "metadata": {},
   "source": [
    "# Excepciones\n",
    "Una **excepción** en Ciencia de la Computación es una situación inesperada o anómala durante un proceso de cómputo que puede llevar a la terminación del programa si no es manejada adecuadamente. En Python, las excepciones son representadas por objetos de la clase `Exception` que se crean cuando se detecta la excepción."
   ]
  },
  {
   "cell_type": "markdown",
   "id": "40ee3810",
   "metadata": {},
   "source": [
    "# Tipos de excepciones\n",
    "A continuación revisaremos algunos ejemplos de clases de excepciones comunes en Python.\n",
    "\n",
    "## `SyntaxError`\n",
    "Se genera cuando una sentencia del programa está mal escrita y viola sus reglas sintácticas. Esta excepción se levanta antes de comenzar a ejecutar el programa, se levanta al leer todo el código que se piensa ejecutar.\n",
    "\n",
    "Por ejemplo, el uso de la sentencia `print` sin paréntesis es válido en Python 2.x, pero incorrecto en Python3.x."
   ]
  },
  {
   "cell_type": "code",
   "execution_count": 1,
   "id": "7749dd22",
   "metadata": {},
   "outputs": [
    {
     "ename": "SyntaxError",
     "evalue": "Missing parentheses in call to 'print'. Did you mean print(...)? (723548848.py, line 1)",
     "output_type": "error",
     "traceback": [
      "\u001b[1;36m  Cell \u001b[1;32mIn[1], line 1\u001b[1;36m\u001b[0m\n\u001b[1;33m    print \"Hola Mundo\"\u001b[0m\n\u001b[1;37m    ^\u001b[0m\n\u001b[1;31mSyntaxError\u001b[0m\u001b[1;31m:\u001b[0m Missing parentheses in call to 'print'. Did you mean print(...)?\n"
     ]
    }
   ],
   "source": [
    "print \"Hola Mundo\""
   ]
  },
  {
   "cell_type": "markdown",
   "id": "e592db9d",
   "metadata": {},
   "source": [
    "## `IndentationError`\n",
    "\n",
    "Este error hereda de `SyntaxError` y se genera cuando una línea del código tiene una incorrecta indentación.\n",
    "\n",
    "En el siguiente ejemplo, se define una condición de flujo (`if`), pero la siguiente **línea de código** no está indentada dentro del `if`, lo que genera la excepción. Es importante destacar que incluir un comentario no previene este error porque no es una línea de código. Un `pass` si hubiera evitado dicho error."
   ]
  },
  {
   "cell_type": "code",
   "execution_count": 2,
   "id": "6de9230b",
   "metadata": {},
   "outputs": [
    {
     "ename": "IndentationError",
     "evalue": "expected an indented block after 'if' statement on line 2 (3144960845.py, line 4)",
     "output_type": "error",
     "traceback": [
      "\u001b[1;36m  Cell \u001b[1;32mIn[2], line 4\u001b[1;36m\u001b[0m\n\u001b[1;33m    print(\"No no no, call me 'Starlight Anya'\")\u001b[0m\n\u001b[1;37m    ^\u001b[0m\n\u001b[1;31mIndentationError\u001b[0m\u001b[1;31m:\u001b[0m expected an indented block after 'if' statement on line 2\n"
     ]
    }
   ],
   "source": [
    "user = \"Anya Forger\"\n",
    "if user != \"Starlight Anya\":\n",
    "    # Este comentario no sirve\n",
    "print(\"No no no, call me 'Starlight Anya'\")"
   ]
  },
  {
   "cell_type": "markdown",
   "id": "cc76f222",
   "metadata": {},
   "source": [
    "## `NameError`\n",
    "\n",
    "Se genera cuando no se encuentra una declaración local o global asociada a algún nombre o función. Es decir, cuando se intenta utilizar algo (variable, función o clase) con algún nombre que es desconocido para el programa.\n",
    "\n",
    "Por ejemplo, la siguiente variable no fue denida anteriormente."
   ]
  },
  {
   "cell_type": "code",
   "execution_count": 3,
   "id": "15950217",
   "metadata": {
    "scrolled": true
   },
   "outputs": [
    {
     "ename": "NameError",
     "evalue": "name 'c' is not defined",
     "output_type": "error",
     "traceback": [
      "\u001b[1;31m---------------------------------------------------------------------------\u001b[0m",
      "\u001b[1;31mNameError\u001b[0m                                 Traceback (most recent call last)",
      "Cell \u001b[1;32mIn[3], line 2\u001b[0m\n\u001b[0;32m      1\u001b[0m a \u001b[38;5;241m=\u001b[39m \u001b[38;5;241m42\u001b[39m\n\u001b[1;32m----> 2\u001b[0m b \u001b[38;5;241m=\u001b[39m \u001b[43mc\u001b[49m \u001b[38;5;241m+\u001b[39m a\n",
      "\u001b[1;31mNameError\u001b[0m: name 'c' is not defined"
     ]
    }
   ],
   "source": [
    "a = 42\n",
    "b = c + a"
   ]
  },
  {
   "cell_type": "markdown",
   "id": "e0602c01",
   "metadata": {},
   "source": [
    "## `ZeroDivisionError`\n",
    "\n",
    "Esta excepción es lanzada cuando el segundo elemento, o denominador, de una división es cero.\n",
    "\n",
    "En el ejemplo vemos que la función `dividir` está correctamente escrita, sin embargo, los valores ingresados por el usuario producen este error matemático."
   ]
  },
  {
   "cell_type": "code",
   "execution_count": 4,
   "id": "a79458ed",
   "metadata": {},
   "outputs": [
    {
     "ename": "ZeroDivisionError",
     "evalue": "division by zero",
     "output_type": "error",
     "traceback": [
      "\u001b[1;31m---------------------------------------------------------------------------\u001b[0m",
      "\u001b[1;31mZeroDivisionError\u001b[0m                         Traceback (most recent call last)",
      "Cell \u001b[1;32mIn[4], line 6\u001b[0m\n\u001b[0;32m      2\u001b[0m     \u001b[38;5;28;01mreturn\u001b[39;00m x \u001b[38;5;241m/\u001b[39m y\n\u001b[0;32m      5\u001b[0m r \u001b[38;5;241m=\u001b[39m \u001b[38;5;241m4\u001b[39m\n\u001b[1;32m----> 6\u001b[0m w \u001b[38;5;241m=\u001b[39m \u001b[43mdividir\u001b[49m\u001b[43m(\u001b[49m\u001b[38;5;241;43m5\u001b[39;49m\u001b[43m,\u001b[49m\u001b[43m \u001b[49m\u001b[38;5;241;43m0\u001b[39;49m\u001b[43m)\u001b[49m\n\u001b[0;32m      7\u001b[0m \u001b[38;5;28mprint\u001b[39m(w)\n",
      "Cell \u001b[1;32mIn[4], line 2\u001b[0m, in \u001b[0;36mdividir\u001b[1;34m(x, y)\u001b[0m\n\u001b[0;32m      1\u001b[0m \u001b[38;5;28;01mdef\u001b[39;00m \u001b[38;5;21mdividir\u001b[39m(x, y):\n\u001b[1;32m----> 2\u001b[0m     \u001b[38;5;28;01mreturn\u001b[39;00m \u001b[43mx\u001b[49m\u001b[43m \u001b[49m\u001b[38;5;241;43m/\u001b[39;49m\u001b[43m \u001b[49m\u001b[43my\u001b[49m\n",
      "\u001b[1;31mZeroDivisionError\u001b[0m: division by zero"
     ]
    }
   ],
   "source": [
    "def dividir(x, y):\n",
    "    return x / y\n",
    "\n",
    "\n",
    "r = 4\n",
    "w = dividir(5, 0)\n",
    "print(w)"
   ]
  },
  {
   "cell_type": "markdown",
   "id": "30dad668",
   "metadata": {},
   "source": [
    "## `IndexError`\n",
    "\n",
    "Se lanza cuando existe una indexación fuera de rango, es decir, un acceso a un índice no válido.\n",
    "\n",
    "El error más típico es referenciar un elemento dentro de una lista (o tupla, o alguna estructura indexable) con un índice que excede los valores válidos acordes a la cantidad de objetos que contiene dicha estructura. "
   ]
  },
  {
   "cell_type": "code",
   "execution_count": 5,
   "id": "d2fd67b5",
   "metadata": {},
   "outputs": [
    {
     "ename": "IndexError",
     "evalue": "tuple index out of range",
     "output_type": "error",
     "traceback": [
      "\u001b[1;31m---------------------------------------------------------------------------\u001b[0m",
      "\u001b[1;31mIndexError\u001b[0m                                Traceback (most recent call last)",
      "Cell \u001b[1;32mIn[5], line 2\u001b[0m\n\u001b[0;32m      1\u001b[0m edad \u001b[38;5;241m=\u001b[39m (\u001b[38;5;241m36\u001b[39m, \u001b[38;5;241m23\u001b[39m, \u001b[38;5;241m12\u001b[39m)\n\u001b[1;32m----> 2\u001b[0m \u001b[43medad\u001b[49m\u001b[43m[\u001b[49m\u001b[38;5;241;43m3\u001b[39;49m\u001b[43m]\u001b[49m\n",
      "\u001b[1;31mIndexError\u001b[0m: tuple index out of range"
     ]
    }
   ],
   "source": [
    "edad = (36, 23, 12)\n",
    "edad[3]"
   ]
  },
  {
   "cell_type": "markdown",
   "id": "f86fbbc1",
   "metadata": {},
   "source": [
    "## `KeyError`\n",
    "\n",
    "Esta excepción alerta sobre el uso incorrecto o inválido de llaves (*keys*) en diccionarios y *mappings*, similarmente a `IndexError` en listas.\n",
    "\n",
    "En el ejemplo a continuación, el usuario pide un dato asociado a una llave inexistente en el diccionario. Al no existir, se levanta la excepción (aunque podríamos haber usado `defaultdict` y no toparnos con esta excepción)."
   ]
  },
  {
   "cell_type": "code",
   "execution_count": 6,
   "id": "19858e4c",
   "metadata": {},
   "outputs": [
    {
     "ename": "KeyError",
     "evalue": "'editorial'",
     "output_type": "error",
     "traceback": [
      "\u001b[1;31m---------------------------------------------------------------------------\u001b[0m",
      "\u001b[1;31mKeyError\u001b[0m                                  Traceback (most recent call last)",
      "Cell \u001b[1;32mIn[6], line 4\u001b[0m\n\u001b[0;32m      1\u001b[0m libro \u001b[38;5;241m=\u001b[39m {\u001b[38;5;124m\"\u001b[39m\u001b[38;5;124mautor\u001b[39m\u001b[38;5;124m\"\u001b[39m: \u001b[38;5;124m\"\u001b[39m\u001b[38;5;124mJuanito Los Palotes\u001b[39m\u001b[38;5;124m\"\u001b[39m,\n\u001b[0;32m      2\u001b[0m          \u001b[38;5;124m\"\u001b[39m\u001b[38;5;124mpáginas\u001b[39m\u001b[38;5;124m\"\u001b[39m: \u001b[38;5;241m9877\u001b[39m}\n\u001b[1;32m----> 4\u001b[0m \u001b[43mlibro\u001b[49m\u001b[43m[\u001b[49m\u001b[38;5;124;43m\"\u001b[39;49m\u001b[38;5;124;43meditorial\u001b[39;49m\u001b[38;5;124;43m\"\u001b[39;49m\u001b[43m]\u001b[49m\n",
      "\u001b[1;31mKeyError\u001b[0m: 'editorial'"
     ]
    }
   ],
   "source": [
    "libro = {\"autor\": \"Juanito Los Palotes\",\n",
    "         \"páginas\": 9877}\n",
    "\n",
    "libro[\"editorial\"]"
   ]
  },
  {
   "cell_type": "markdown",
   "id": "361c26fa",
   "metadata": {},
   "source": [
    "## `AttributeError`\n",
    "\n",
    "Esta excepción alerta sobre el uso incorrecto de métodos o atributos de una clase o tipo de dato.\n",
    "\n",
    "En este ejemplo, la clase `Auto` ha definido el método avanzar. Sin embargo, el usuario ejecuta el método `frenar()` que no existe en ella."
   ]
  },
  {
   "cell_type": "code",
   "execution_count": 7,
   "id": "ceedd1f9",
   "metadata": {},
   "outputs": [
    {
     "ename": "AttributeError",
     "evalue": "'Auto' object has no attribute 'frenar'",
     "output_type": "error",
     "traceback": [
      "\u001b[1;31m---------------------------------------------------------------------------\u001b[0m",
      "\u001b[1;31mAttributeError\u001b[0m                            Traceback (most recent call last)",
      "Cell \u001b[1;32mIn[7], line 11\u001b[0m\n\u001b[0;32m      7\u001b[0m         \u001b[38;5;28mprint\u001b[39m(\u001b[38;5;124m\"\u001b[39m\u001b[38;5;124mavanzando\u001b[39m\u001b[38;5;124m\"\u001b[39m)\n\u001b[0;32m     10\u001b[0m chevi \u001b[38;5;241m=\u001b[39m Auto()\n\u001b[1;32m---> 11\u001b[0m \u001b[43mchevi\u001b[49m\u001b[38;5;241;43m.\u001b[39;49m\u001b[43mfrenar\u001b[49m()\n",
      "\u001b[1;31mAttributeError\u001b[0m: 'Auto' object has no attribute 'frenar'"
     ]
    }
   ],
   "source": [
    "class Auto:\n",
    "\n",
    "    def __init__(self, puertas=4):\n",
    "        self.puertas = puertas\n",
    "\n",
    "    def avanzar(self):\n",
    "        print(\"avanzando\")\n",
    "\n",
    "\n",
    "chevi = Auto()\n",
    "chevi.frenar()"
   ]
  },
  {
   "cell_type": "markdown",
   "id": "bec3f3af",
   "metadata": {},
   "source": [
    "## `TypeError`\n",
    "\n",
    "Esta excepción indica que hubo un manejo erróneo de **tipos** de datos. Es decir, cuando se intenta ejecutar una operación o función con un argumento que no pertenece al tipo correcto para la ejecución.\n",
    "\n",
    "Un error común es concatenar una lista con algo que no es del tipo `list`. En este ejemplo, la función está definida como la suma de variables, sin embargo, debido a *duck-typing*, el operador `+` se comporta distinto de acuerdo a los tipos de los datos que recibe."
   ]
  },
  {
   "cell_type": "code",
   "execution_count": 8,
   "id": "c21f19ca",
   "metadata": {},
   "outputs": [
    {
     "name": "stdout",
     "output_type": "stream",
     "text": [
      "63\n",
      "[36, 23, 12, 40, 25]\n"
     ]
    },
    {
     "ename": "TypeError",
     "evalue": "unsupported operand type(s) for +: 'int' and 'list'",
     "output_type": "error",
     "traceback": [
      "\u001b[1;31m---------------------------------------------------------------------------\u001b[0m",
      "\u001b[1;31mTypeError\u001b[0m                                 Traceback (most recent call last)",
      "Cell \u001b[1;32mIn[8], line 9\u001b[0m\n\u001b[0;32m      7\u001b[0m \u001b[38;5;28mprint\u001b[39m(juntar(edades[\u001b[38;5;241m1\u001b[39m], mas_edades[\u001b[38;5;241m0\u001b[39m]))\n\u001b[0;32m      8\u001b[0m \u001b[38;5;28mprint\u001b[39m(juntar(edades, mas_edades))\n\u001b[1;32m----> 9\u001b[0m \u001b[38;5;28mprint\u001b[39m(\u001b[43mjuntar\u001b[49m\u001b[43m(\u001b[49m\u001b[38;5;241;43m2\u001b[39;49m\u001b[43m,\u001b[49m\u001b[43m \u001b[49m\u001b[43medades\u001b[49m\u001b[43m)\u001b[49m)\n",
      "Cell \u001b[1;32mIn[8], line 2\u001b[0m, in \u001b[0;36mjuntar\u001b[1;34m(x, y)\u001b[0m\n\u001b[0;32m      1\u001b[0m \u001b[38;5;28;01mdef\u001b[39;00m \u001b[38;5;21mjuntar\u001b[39m(x, y):\n\u001b[1;32m----> 2\u001b[0m     \u001b[38;5;28;01mreturn\u001b[39;00m \u001b[43mx\u001b[49m\u001b[43m \u001b[49m\u001b[38;5;241;43m+\u001b[39;49m\u001b[43m \u001b[49m\u001b[43my\u001b[49m\n",
      "\u001b[1;31mTypeError\u001b[0m: unsupported operand type(s) for +: 'int' and 'list'"
     ]
    }
   ],
   "source": [
    "def juntar(x, y):\n",
    "    return x + y\n",
    "\n",
    "\n",
    "edades = [36, 23, 12]\n",
    "mas_edades = [40, 25]\n",
    "print(juntar(edades[1], mas_edades[0]))\n",
    "print(juntar(edades, mas_edades))\n",
    "print(juntar(2, edades))"
   ]
  },
  {
   "cell_type": "markdown",
   "id": "d2beda2d",
   "metadata": {},
   "source": [
    "## `ValueError`\n",
    "\n",
    "Esta excepción indica que hubo un manejo erróneo de **valor** de datos. Es decir, cuando se intenta ejecutar una operación o función con un argumento cuyo **valor no era apropiado** para la ejecución esperada.\n",
    "\n",
    "Podemos encontrar este tipo de error en múltiples funciones conocidas. Por ejemplo, los *strings* de Python tienen el método `split` que permite separar la cadena de texto según algún separador que recibe como argumento:"
   ]
  },
  {
   "cell_type": "code",
   "execution_count": 9,
   "id": "e1c12a11",
   "metadata": {},
   "outputs": [
    {
     "data": {
      "text/plain": [
       "['Mi', 'string', 'separable', 'por', 'espacios']"
      ]
     },
     "execution_count": 9,
     "metadata": {},
     "output_type": "execute_result"
    }
   ],
   "source": [
    "\"Mi string separable por espacios\".split(\" \")"
   ]
  },
  {
   "cell_type": "code",
   "execution_count": 10,
   "id": "9e00aa32",
   "metadata": {},
   "outputs": [
    {
     "ename": "ValueError",
     "evalue": "empty separator",
     "output_type": "error",
     "traceback": [
      "\u001b[1;31m---------------------------------------------------------------------------\u001b[0m",
      "\u001b[1;31mValueError\u001b[0m                                Traceback (most recent call last)",
      "Cell \u001b[1;32mIn[10], line 1\u001b[0m\n\u001b[1;32m----> 1\u001b[0m \u001b[38;5;124;43m\"\u001b[39;49m\u001b[38;5;124;43mMi string separable por espacios\u001b[39;49m\u001b[38;5;124;43m\"\u001b[39;49m\u001b[38;5;241;43m.\u001b[39;49m\u001b[43msplit\u001b[49m\u001b[43m(\u001b[49m\u001b[38;5;124;43m\"\u001b[39;49m\u001b[38;5;124;43m\"\u001b[39;49m\u001b[43m)\u001b[49m\n",
      "\u001b[1;31mValueError\u001b[0m: empty separator"
     ]
    }
   ],
   "source": [
    "\"Mi string separable por espacios\".split(\"\")"
   ]
  },
  {
   "cell_type": "markdown",
   "id": "984d727c",
   "metadata": {},
   "source": [
    "# Levantando excepciones: `raise`\n",
    "También podemos generar una excepción en el momento que queramos creando una nueva instancia de la excepción, y utilizando la sentencia **`raise`**. Cada excepción tiene un tipo definido, y es posible definir un mensaje explicativo para el usuario.\n",
    "\n",
    "Por ejemplo, la siguiente función `convertir_coordenada` recibe un *string* que sigue el formato `\"coordenada_x, coordenada_y\"` y tiene por objetivo retornar una tupla con los valores enteros de la coordenada. Se podría lanzar excepciones de esta manera:"
   ]
  },
  {
   "cell_type": "code",
   "execution_count": 11,
   "id": "d2b8d2a1",
   "metadata": {},
   "outputs": [],
   "source": [
    "def convertir_coordenada(coordenada_en_string):\n",
    "    # Si el input no es del tipo esperado\n",
    "    if not isinstance(coordenada_en_string, str):\n",
    "        # aquí se genera una excepción y se incluye información para el usuario.\n",
    "        raise TypeError(\"Coordenada debe ser un string\")\n",
    "\n",
    "    coord_x, coord_y = coordenada_en_string.split(\",\")\n",
    "    return (int(coord_x), int(coord_y))"
   ]
  },
  {
   "cell_type": "code",
   "execution_count": 12,
   "id": "1a13de80",
   "metadata": {},
   "outputs": [
    {
     "ename": "TypeError",
     "evalue": "Coordenada debe ser un string",
     "output_type": "error",
     "traceback": [
      "\u001b[1;31m---------------------------------------------------------------------------\u001b[0m",
      "\u001b[1;31mTypeError\u001b[0m                                 Traceback (most recent call last)",
      "Cell \u001b[1;32mIn[12], line 2\u001b[0m\n\u001b[0;32m      1\u001b[0m no_texto \u001b[38;5;241m=\u001b[39m [\u001b[38;5;241m43\u001b[39m, \u001b[38;5;241m3\u001b[39m]\n\u001b[1;32m----> 2\u001b[0m x, y \u001b[38;5;241m=\u001b[39m \u001b[43mconvertir_coordenada\u001b[49m\u001b[43m(\u001b[49m\u001b[43mno_texto\u001b[49m\u001b[43m)\u001b[49m\n\u001b[0;32m      3\u001b[0m \u001b[38;5;28mprint\u001b[39m(x, y)\n",
      "Cell \u001b[1;32mIn[11], line 5\u001b[0m, in \u001b[0;36mconvertir_coordenada\u001b[1;34m(coordenada_en_string)\u001b[0m\n\u001b[0;32m      1\u001b[0m \u001b[38;5;28;01mdef\u001b[39;00m \u001b[38;5;21mconvertir_coordenada\u001b[39m(coordenada_en_string):\n\u001b[0;32m      2\u001b[0m     \u001b[38;5;66;03m# Si el input no es del tipo esperado\u001b[39;00m\n\u001b[0;32m      3\u001b[0m     \u001b[38;5;28;01mif\u001b[39;00m \u001b[38;5;129;01mnot\u001b[39;00m \u001b[38;5;28misinstance\u001b[39m(coordenada_en_string, \u001b[38;5;28mstr\u001b[39m):\n\u001b[0;32m      4\u001b[0m         \u001b[38;5;66;03m# aquí se genera una excepción y se incluye información para el usuario.\u001b[39;00m\n\u001b[1;32m----> 5\u001b[0m         \u001b[38;5;28;01mraise\u001b[39;00m \u001b[38;5;167;01mTypeError\u001b[39;00m(\u001b[38;5;124m\"\u001b[39m\u001b[38;5;124mCoordenada debe ser un string\u001b[39m\u001b[38;5;124m\"\u001b[39m)\n\u001b[0;32m      7\u001b[0m     coord_x, coord_y \u001b[38;5;241m=\u001b[39m coordenada_en_string\u001b[38;5;241m.\u001b[39msplit(\u001b[38;5;124m\"\u001b[39m\u001b[38;5;124m,\u001b[39m\u001b[38;5;124m\"\u001b[39m)\n\u001b[0;32m      8\u001b[0m     \u001b[38;5;28;01mreturn\u001b[39;00m (\u001b[38;5;28mint\u001b[39m(coord_x), \u001b[38;5;28mint\u001b[39m(coord_y))\n",
      "\u001b[1;31mTypeError\u001b[0m: Coordenada debe ser un string"
     ]
    }
   ],
   "source": [
    "no_texto = [43, 3]\n",
    "x, y = convertir_coordenada(no_texto)\n",
    "print(x, y)"
   ]
  },
  {
   "cell_type": "markdown",
   "id": "29fb3af0",
   "metadata": {},
   "source": [
    "# Manejo de Excepciones: `try` y `except`\n",
    "\n",
    "Cada vez que se **levanta** una excepción durante la ejecución del código, es posible **atraparla** mediante el uso de las sentencias `try` y `except`.\n",
    "\n",
    "La sentencia `try` permite definir un *scope* (bloque de código). Si se levanta una excepción dentro del *scope* de `try`, entonces la excepción es **capturada**. A continuación del bloque de `try` debe haber una o más instrucciones `except`. Las instrucciones `except` permiten implementar el manejo de la excepción capturada.\n",
    "\n",
    "En el momento que se captura una excepción dentro de `try` el flujo del programa salta inmediatamente al bloque de una de las sentencias `except`. Una vez que el bloque `except` ha terminado, el programa continúa en la instrucción **posterior** al bloque `try`/`except`. El programa **NO regresa** a la sentencia que gatilló la excepción.\n",
    "\n",
    "Cómo se mencionó al inicio de esta sección, solo se atrapan excepciones que surgen durante la ejecución del código. Esto implica que excepciones del tipo `SyntaxError` o `IndentationError` no son posible de **atrapar** porque estas surgen durante la lectura del programa, no su ejecución.\n",
    "\n",
    "Veamos el siguiente ejemplo de la función `dividir`:"
   ]
  },
  {
   "cell_type": "code",
   "execution_count": 13,
   "id": "ef4a180a",
   "metadata": {},
   "outputs": [
    {
     "name": "stdout",
     "output_type": "stream",
     "text": [
      "An error occurred: division by zero\n",
      "The code is still running after try/except\n"
     ]
    }
   ],
   "source": [
    "div = 0\n",
    "try:\n",
    "    resultado = 1 / div\n",
    "    print(f\"The division was valid\")\n",
    "    \n",
    "except (ZeroDivisionError, TypeError) as error:\n",
    "    print(f\"An error occurred: {error}\")\n",
    "\n",
    "print(f\"The code is still running after try/except\")\n"
   ]
  },
  {
   "cell_type": "markdown",
   "id": "d2106e79",
   "metadata": {},
   "source": [
    "**Observación:** Atrapar sintaxis es un poco mas complicado. Si esta se encuentra en el mismo codigo fallara, pero si se encuentra en otro y este se importa funcionará."
   ]
  },
  {
   "cell_type": "markdown",
   "id": "7934570c",
   "metadata": {},
   "source": [
    "### Flujos complementarios: `else` y `finally`\n",
    "El bloque de `try` y `except` puede ser complementado opcionalmente con las sentencias **`else`** y **`finally`**:\n",
    "\n",
    "- Las instrucciones dentro del bloque `else` se ejecutarán **siempre y cuando no se haya lanzado ninguna excepción**.\n",
    "- En el bloque de la sentencia `finally` van instrucciones que se realizan **siempre, independientemente de si ocurrió una excepción o no**."
   ]
  },
  {
   "cell_type": "code",
   "execution_count": 14,
   "id": "e2bb7751",
   "metadata": {},
   "outputs": [
    {
     "name": "stdout",
     "output_type": "stream",
     "text": [
      "Revise los datos de entrada. ¡No son int o bien el denominador es 0!\n",
      "Recuerde SIEMPRE usar excepciones para manejar los errores de su programa\n"
     ]
    }
   ],
   "source": [
    "# Esta corresponde a la estructura completa de try and except.\n",
    "try:\n",
    "    # Probamos si es posible realizar la operación.\n",
    "    resultado = 10/div\n",
    "    print(\"Esta línea no se ejecuta si se produce una excepción en la línea anterior.\")\n",
    "\n",
    "except (ZeroDivisionError, TypeError):\n",
    "    # Este bloque opera para los tipos de excepciones definidos.\n",
    "    print(\"Revise los datos de entrada. ¡No son int o bien el denominador es 0!\")\n",
    "\n",
    "except ValueError:\n",
    "    # Este bloque sólo maneja excepciones del tipo ValueError.\n",
    "    print(\"Los valores ingresados son negativos\")\n",
    "\n",
    "else:\n",
    "    # Como no hubo excepciones puede retornar normalmente el resultado\n",
    "    # En este caso, si se coloca un return después de la operación y\n",
    "    # esta es correcta, entonces nunca llegará a este punto.\n",
    "    print(\"¡Todo OK!, no hay errores con los datos\")\n",
    "\n",
    "finally:\n",
    "    print(\"Recuerde SIEMPRE usar excepciones para manejar los errores de su programa\")"
   ]
  },
  {
   "cell_type": "markdown",
   "id": "31107b34",
   "metadata": {},
   "source": [
    "# Clases de Excepciones\n",
    "En Python, todas las excepciones heredan de `BaseException`. A partir de ella existen tres tipos de excepciones: **`SystemExit`**, **`KeyboardInterrupt`**, y **`Exception`**. Todas las excepciones generadas por errores durante la ejecución de un programa son subclases de `Exception`, tal como se muestra en el siguiente diagrama: ![](img/jerarquia-excepciones.png)"
   ]
  },
  {
   "cell_type": "markdown",
   "id": "0899cc77",
   "metadata": {},
   "source": [
    "**Observación:** Se considera una mala practica capturando la exepcion con `Exception`:"
   ]
  },
  {
   "cell_type": "code",
   "execution_count": 15,
   "id": "4b676868",
   "metadata": {},
   "outputs": [
    {
     "name": "stdout",
     "output_type": "stream",
     "text": [
      "Un error a ocurrido: division by zero\n",
      "Revise los datos de entrada. Algo pasó ahí, pero no sé qué tipo específico de Exception ... \n"
     ]
    }
   ],
   "source": [
    "div = 0\n",
    "try:\n",
    "    resultado = 1 / div\n",
    "    print(f\"La division fue valida\")\n",
    "    \n",
    "except Exception as error:\n",
    "    print(f\"Un error a ocurrido: {error}\")\n",
    "    print(\"Revise los datos de entrada. Algo pasó ahí, pero no sé qué tipo específico de Exception ... \")\n"
   ]
  },
  {
   "cell_type": "markdown",
   "id": "2ef261b2",
   "metadata": {},
   "source": [
    "# Excepciones personalizadas\n",
    "\n",
    "Podemos crear nuestros propios tipos de excepciones. Para ello debemos heredar desde la clase `Exception`. Podemos modificar el comportamiento heredado sobrescribiendo los métodos que tiene implementada esta clase."
   ]
  },
  {
   "cell_type": "code",
   "execution_count": 16,
   "id": "d3911886",
   "metadata": {},
   "outputs": [],
   "source": [
    "class Excepcion1(Exception):\n",
    "\n",
    "    # Al no sobrescribir nada, hereda todo sin modificaciones.\n",
    "    pass\n",
    "\n",
    "\n",
    "class Excepcion2(Exception):\n",
    "\n",
    "    def __init__(self, a, b):\n",
    "        # Sobrescribimos el __init__ para cambiar el ingreso de los parámetros.\n",
    "        super().__init__(f\"Alguno de los valores {a} o {b} no es entero\")\n",
    "\n",
    "\n",
    "def dividir(num, den):\n",
    "    # Por ejemplo, redefiniremos las excepciones que\n",
    "    # utilizamos en los ejemplos anteriores.\n",
    "    if not (isinstance(num, int) and isinstance(den, int)):\n",
    "        raise Excepcion2(num, den)\n",
    "\n",
    "    if num < 0 or den < 0:\n",
    "        raise Excepcion1(\"Los valores son negativos\")\n",
    "\n",
    "    return float(num) / float(den)"
   ]
  },
  {
   "cell_type": "code",
   "execution_count": 17,
   "id": "ed290fbe",
   "metadata": {},
   "outputs": [
    {
     "name": "stdout",
     "output_type": "stream",
     "text": [
      "Error: Los valores son negativos\n"
     ]
    }
   ],
   "source": [
    "# Este ejempo lanza una Excepcion1.\n",
    "try:\n",
    "    print(dividir(4, -3))\n",
    "\n",
    "except Excepcion1 as err:\n",
    "    # Este bloque opera para la Excepcion1.\n",
    "    print(f\"Error: {err}\")\n",
    "\n",
    "except Excepcion2 as err:\n",
    "    # Este bloque opera para Excepcion2 cuando los datos no son enteros.\n",
    "    print(f\"Error: {err}\")"
   ]
  },
  {
   "cell_type": "code",
   "execution_count": 18,
   "id": "8ac22eba",
   "metadata": {},
   "outputs": [
    {
     "name": "stdout",
     "output_type": "stream",
     "text": [
      "Error: Alguno de los valores 4.4 o -3 no es entero\n"
     ]
    }
   ],
   "source": [
    "# Este ejemplo lanza una Excepcion2.\n",
    "try:\n",
    "    print(dividir(4.4, -3))\n",
    "\n",
    "except Excepcion1 as err:\n",
    "    # Este bloque opera para la Excepcion1.\n",
    "    print(f\"Error: {err}\")\n",
    "\n",
    "except Excepcion2 as err:\n",
    "    # Este bloque opera para Excepcion2 cuando los datos no son enteros.\n",
    "    print(f\"Error: {err}\")"
   ]
  }
 ],
 "metadata": {
  "kernelspec": {
   "display_name": "Python 3 (ipykernel)",
   "language": "python",
   "name": "python3"
  },
  "language_info": {
   "codemirror_mode": {
    "name": "ipython",
    "version": 3
   },
   "file_extension": ".py",
   "mimetype": "text/x-python",
   "name": "python",
   "nbconvert_exporter": "python",
   "pygments_lexer": "ipython3",
   "version": "3.10.10"
  }
 },
 "nbformat": 4,
 "nbformat_minor": 5
}
