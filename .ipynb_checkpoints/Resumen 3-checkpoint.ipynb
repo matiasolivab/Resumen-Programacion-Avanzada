{
 "cells": [
  {
   "cell_type": "markdown",
   "id": "352bc617",
   "metadata": {},
   "source": [
    "# Polimorfismo\n",
    "El **polimorfismo** se refiere a \"la propiedad por la que es posible enviar mensajes sintácticamente iguales a objetos de tipos distintos\".\n",
    "\n",
    "Dos mecanismo para proveer polimorfismo son _overriding_ y _overloading_.\n",
    "\n",
    "- ***Overriding***: ocurre cuando se implementa un método en una subclase que sobreescribe la implementación del mismo método en la super clase\n",
    "   \n",
    "- ***Overloading***: es la capacidad de definir un método con el mismo nombre pero con distinto número y tipo de argumentos. Es la capacidad de una función de ejecutar distintas acciones dependiendo del tipo y número de argumentos que recibe."
   ]
  },
  {
   "cell_type": "markdown",
   "id": "b622647c",
   "metadata": {},
   "source": [
    "![](img/OOP_polimorfismo.png)"
   ]
  },
  {
   "cell_type": "code",
   "execution_count": null,
   "id": "721b5d40",
   "metadata": {},
   "outputs": [],
   "source": []
  }
 ],
 "metadata": {
  "kernelspec": {
   "display_name": "Python 3 (ipykernel)",
   "language": "python",
   "name": "python3"
  },
  "language_info": {
   "codemirror_mode": {
    "name": "ipython",
    "version": 3
   },
   "file_extension": ".py",
   "mimetype": "text/x-python",
   "name": "python",
   "nbconvert_exporter": "python",
   "pygments_lexer": "ipython3",
   "version": "3.10.10"
  }
 },
 "nbformat": 4,
 "nbformat_minor": 5
}
