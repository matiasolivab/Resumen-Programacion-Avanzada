{
 "cells": [
  {
   "cell_type": "markdown",
   "id": "3036080c",
   "metadata": {},
   "source": [
    "<p>\n",
    "<font size='5' face='Georgia, Arial'>Resumen 2: Programación Avanzada</font><br>\n",
    "<font size='1'>Resumen sobre el material entregado por iic2233. Modificado el 2023-1</font>\n",
    "<br>\n",
    "</p>"
   ]
  },
  {
   "cell_type": "markdown",
   "id": "0549b937",
   "metadata": {},
   "source": [
    "# Objetos\n",
    "\n",
    "En el área de desarrollo de software, un **objeto** es una colección de **datos** que además tiene **comportamientos** asociados. \n",
    "\n",
    "**Importante:**\n",
    "- **Atributos:** describen los datos que caracterizan a un objeto.\n",
    "- **Métodos:** describen los comportamientos de los objetos.\n",
    "- Un objeto es una **instancia** de una clase.\n",
    "\n",
    "**Observación:** Sobre como crear una clase, ver resumen intro a la progra\n",
    "\n"
   ]
  },
  {
   "cell_type": "markdown",
   "id": "d781c730",
   "metadata": {},
   "source": [
    "# Encapsulamiento\n",
    "El encapsulamiento se refiere al ocultamiento de los atributos de un objeto de manera que éstos sólo puedan ser modificados mediante los métodos que el programador defina."
   ]
  },
  {
   "cell_type": "markdown",
   "id": "d91a0a19",
   "metadata": {},
   "source": [
    "| Operación                                  | Código Python            |Descripción                                           |\n",
    "|--------------------------------------------|--------------------------|------------------------------------------------------|\n",
    "| Underscore                                 | `_metodo`                | Sugiere que el atributo es únicamente interno, pero aun asi se puede ver  |\n",
    "| Double underscore                          | `__metodo`               | Lo mismo que el anterior, per en este caso no se puede leer  |\n",
    "| Name mangling  | `clase._nombreDeLaClase__atributo/metodo` | Podemos leer el double underscore | \n"
   ]
  },
  {
   "cell_type": "markdown",
   "id": "61b011ca",
   "metadata": {},
   "source": [
    "## *Properties*: `property`"
   ]
  },
  {
   "cell_type": "markdown",
   "id": "e5e76bd3",
   "metadata": {},
   "source": [
    "En Python, una _property_ funciona como un atributo, pero sobre el cual podemos modificar su comportamiento cada vez que es leído (`get`), escrito (`set`), o eliminado (`del`)."
   ]
  },
  {
   "cell_type": "markdown",
   "id": "e8e08e7d",
   "metadata": {},
   "source": [
    "| Operación                                  | Código Python            |Descripción                                           |\n",
    "|--------------------------------------------|--------------------------|------------------------------------------------------|\n",
    "| Decorador `getter`                              | `@property`                | Esta `property` se comporta como un atributo `getter`  |\n",
    "| Decorador `setter`                          | `@property.setter`               | Nos permitira modificar el valor de la *property*  |\n",
    "| Otra manera de decorar | `nombre = property(_get_nombre, _set_nombre, _del_nombre)` | La función indica cual de sus métodos *getter* y *setter* seran |\n"
   ]
  },
  {
   "cell_type": "markdown",
   "id": "ceb3d76d",
   "metadata": {},
   "source": [
    "# Herencia\n",
    "\n",
    "La **herencia** es una de las características más importantes de OOP, y corresponde a una relación de **especialización** y **generalización** entre clases. En esta relación, una **clase** _hereda_ atributos y métodos de otra. Decimos que la que hereda es una **subclase**, y la otra es una **superclase**.\n",
    "\n",
    "Ejemplo **especialización:**"
   ]
  },
  {
   "cell_type": "code",
   "execution_count": 1,
   "id": "a29c8da4",
   "metadata": {},
   "outputs": [],
   "source": [
    "class Auto:\n",
    "    \n",
    "    def __init__(self, marca, modelo, año, color, km):\n",
    "        self.marca = marca\n",
    "        self.modelo = modelo\n",
    "        self.año = año\n",
    "        self.color = color\n",
    "        self.__kilometraje = km\n",
    "        self.__dueño = None\n",
    "\n",
    "    def conducir(self, kms):\n",
    "        print(f\"Conduciendo {kms} kilómetros\")\n",
    "        self.__kilometraje += kms\n",
    "\n",
    "    def vender(self, nuevo_dueño):\n",
    "        self.__dueño = nuevo_dueño\n",
    "        print(f\"Auto vendido a {nuevo_dueño}\")\n",
    "\n",
    "    def leer_odometro(self):\n",
    "        return self.__kilometraje\n",
    "\n",
    "\n",
    "class FurgónEscolar(Auto): # Aquí se marca de donde hereda\n",
    "    \"\"\"Subclase de Auto\"\"\"\n",
    "    \n",
    "    def __init__(self, marca, modelo, año, color, kms):\n",
    "        # Para inicializar algunos datos en la clase madre, llamamos explícitamente \n",
    "        # al __init__ de esa clase. Por ahora lo llamaremos usando la clase padre,\n",
    "        # pero más adelante veremos una mejor forma de hacerlo, y es entregándole\n",
    "        # a python la responsabilidad de encontrar la clase que debe ser llamada\n",
    "        # a continuación\n",
    "        Auto.__init__(self, marca, modelo, año, color, kms)\n",
    "        # Este atributo existe únicamente para objetos de tipo FurgonEscolar, \n",
    "        # pero no para todos los objetos de clase Auto \n",
    "        self.niños_y_niñas = []\n",
    "    \n",
    "    # inscribir_niño_o_niña es un método específico de esta subclase.\n",
    "    def inscribir_niño_o_niña(self, niño_o_niña):\n",
    "        self.niños_y_niñas.append(niño_o_niña)"
   ]
  },
  {
   "cell_type": "markdown",
   "id": "b316a60c",
   "metadata": {},
   "source": [
    "### Overriding\n",
    "\n",
    "La herencia nos permite **sobrescribir** los métodos que necesitemos modificar. En Python, podemos **volver a definir un método en una subclase**, con el mismo nombre que tenía en la superclase."
   ]
  },
  {
   "cell_type": "code",
   "execution_count": 2,
   "id": "60cb7eee",
   "metadata": {},
   "outputs": [],
   "source": [
    "class Auto:\n",
    "    \n",
    "    def __init__(self, ma, mo, a, c, k):\n",
    "        self.marca = ma\n",
    "        self.modelo = mo\n",
    "        self.año = a\n",
    "        self.color = c\n",
    "        self.__kilometraje = k\n",
    "        self.__dueño = None\n",
    "\n",
    "    def conducir(self, kms):\n",
    "        print(f\"Conduciendo {kms} kilómetros\")\n",
    "        self.__kilometraje += kms\n",
    "\n",
    "    def vender(self, nuevo_dueño):\n",
    "        self.__dueño = nuevo_dueño\n",
    "        print(f\"Auto vendido a {nuevo_dueño}\")\n",
    "\n",
    "    def leer_odometro(self):\n",
    "        return self.__kilometraje\n",
    "\n",
    "    \n",
    "class FurgónEscolar(Auto):\n",
    "    \"\"\"Subclase de Auto\"\"\"\n",
    "    \n",
    "    # Estamos haciendo overriding del __init__ original\n",
    "    def __init__(self, marca, modelo, año, color, kms):\n",
    "        # Aún queremos usar el __init__ original para setear los otros datos. Así es como podemos llamarlo.\n",
    "        Auto.__init__(self, marca, modelo, año, color, kms)\n",
    "        \n",
    "        # O podemos utilizar super() para llamar a la super clase (es mejoreste metodo)\n",
    "        super().__init__(marca, modelo, año, color, kms)\n",
    "        self.niños_y_niñas = []\n",
    "    \n",
    "    \n",
    "    # inscribir_niño_o_niña es un método específico de esta subclase.\n",
    "    def inscribir_niño_o_niña(self, niño_o_niña):\n",
    "        self.niños_y_niñas.append(niño_o_niña)\n",
    "        \n",
    "    # Estamos haciendo overriding del método conducir original\n",
    "    def conducir(self, distancia):\n",
    "        # Acá no queremos usar la versión original de conducir\n",
    "        print(f\"Conduciendo con cuidado {distancia} kilómetros\")"
   ]
  },
  {
   "cell_type": "markdown",
   "id": "ce8a0748",
   "metadata": {},
   "source": [
    "# Diagrama de Clases\n",
    "\n",
    "El **diagrama de clases** es una herramienta muy útil que permite visualizar fácilmente las clases que componen un sistema, así como también sus atributos, métodos y las interacciones que existen entre ellas\n",
    "\n",
    "## Elementos de un diagrama de clases\n",
    "\n",
    "- **Clases:** corresponden a las estructuras básicas que ***encapsulan*** la información.\n",
    "- **Relaciones:** Los diagramas de clases explican cómo ocurre la interacción entre las clases dentro del sistema que modelamos, las cuales representamos como relaciones. Las más comunes son: **composición**, **agregación** y **herencia**."
   ]
  },
  {
   "cell_type": "markdown",
   "id": "d113ad77",
   "metadata": {},
   "source": [
    "Esta nos ayudara a vizualizar y crear de mejor manera un juego por ejemplos"
   ]
  },
  {
   "cell_type": "code",
   "execution_count": null,
   "id": "b048d7b4",
   "metadata": {},
   "outputs": [],
   "source": []
  }
 ],
 "metadata": {
  "kernelspec": {
   "display_name": "Python 3 (ipykernel)",
   "language": "python",
   "name": "python3"
  },
  "language_info": {
   "codemirror_mode": {
    "name": "ipython",
    "version": 3
   },
   "file_extension": ".py",
   "mimetype": "text/x-python",
   "name": "python",
   "nbconvert_exporter": "python",
   "pygments_lexer": "ipython3",
   "version": "3.10.10"
  }
 },
 "nbformat": 4,
 "nbformat_minor": 5
}
