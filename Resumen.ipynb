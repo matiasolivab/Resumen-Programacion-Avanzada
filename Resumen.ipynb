{
 "cells": [
  {
   "cell_type": "markdown",
   "id": "8f84df3f",
   "metadata": {},
   "source": [
    "<p>\n",
    "<font size='5' face='Georgia, Arial'>IIC2233 Resumen Programación Avanzada</font><br>\n",
    "<font size='1'>Matías Oliva.</font>\n",
    "<br>\n",
    "</p>"
   ]
  },
  {
   "cell_type": "markdown",
   "id": "79940632",
   "metadata": {},
   "source": [
    "## Estructuras de datos *built-in* en Python\n"
   ]
  },
  {
   "cell_type": "markdown",
   "id": "9e27af56",
   "metadata": {},
   "source": [
    "Python posee varias estructuras de datos ya implementadas (*built-in*) para el manejo eficiente de datos\n",
    "\n",
    "Existen las estructuras de datos **secuenciales**, que **mantienen un orden entre sus elementos**:\n",
    "* **listas** (*lists*)\n",
    "* **tuplas** (*tuples*)\n",
    "* **pilas** (*stacks*) \n",
    "* **colas** (*queue*)\n",
    "\n",
    "y las que **no mantienen un orden establecido**,.\n",
    "\n",
    "* **diccionarios** (*dictionaries*)\n",
    "* **conjuntos** (*sets*)"
   ]
  },
  {
   "cell_type": "markdown",
   "id": "73cb4149",
   "metadata": {},
   "source": [
    "## Tuplas"
   ]
  },
  {
   "cell_type": "markdown",
   "id": "bfb6070c",
   "metadata": {},
   "source": [
    "Las **tuplas** (`tuple`) se utilizan para manejar datos de forma **ordenada** e **inmutable**, es decir, no se pueden cambiar los valores que contiene."
   ]
  },
  {
   "cell_type": "code",
   "execution_count": 1,
   "id": "55329fd5",
   "metadata": {},
   "outputs": [
    {
     "name": "stdout",
     "output_type": "stream",
     "text": [
      "<class 'tuple'> ()\n",
      "<class 'tuple'> (0, 1, 2) 0 1\n",
      "<class 'tuple'> (0,)\n",
      "<class 'tuple'> (0, 'uno') 0 uno\n"
     ]
    }
   ],
   "source": [
    "# Usando tuple() sin ingresar elementos, se crea una tupla vacía.\n",
    "a = tuple()\n",
    "\n",
    "# Declarando explícitamente los elementos de la tupla, ingresándolos entre paréntesis.\n",
    "b = (0, 1, 2)\n",
    "\n",
    "# Cuando creamos una tupla de tamaño 1, debemos incluir una coma al final\n",
    "c = (0, )\n",
    "\n",
    "# Pueden ser creadas con objetos de distinto tipo. Al momento de la creación se pueden omitir los paréntesis.\n",
    "d = 0, 'uno'\n",
    "\n",
    "print(type(a), a)\n",
    "print(type(b), b, b[0], b[1])\n",
    "print(type(c), c)\n",
    "print(type(d), d, d[0], d[1])"
   ]
  },
  {
   "cell_type": "markdown",
   "id": "0c2cd074",
   "metadata": {},
   "source": [
    "***Observación:*** Los elementos mutables que se encuentran dentro de una tupla si pueden ser modificados."
   ]
  },
  {
   "cell_type": "code",
   "execution_count": 2,
   "id": "d253dda9",
   "metadata": {},
   "outputs": [
    {
     "name": "stdout",
     "output_type": "stream",
     "text": [
      "(2023, 'semestre', 2, ['Ene', 'Sep', 'Oct', 'Nov', 'Dic'])\n"
     ]
    }
   ],
   "source": [
    "meses = (2023, \"semestre\", 2, ['Ago', 'Sep', 'Oct', 'Nov', 'Dic'])\n",
    "\n",
    "meses[3][0] = 'Ene'\n",
    "print(meses)"
   ]
  },
  {
   "cell_type": "markdown",
   "id": "972e4d02",
   "metadata": {},
   "source": [
    "### *Slicing* de tuplas\n",
    "\n",
    "Es posible tomar secciones de la tupla usando la notación de ***slicing***."
   ]
  },
  {
   "cell_type": "markdown",
   "id": "bde1dbce",
   "metadata": {},
   "source": [
    "Forma general de hacer *slicing* en Python:\n",
    "\n",
    "- `a[start:end]`: retorna los elementos desde `start` hasta `end - 1`.\n",
    "\n",
    "- `a[start:]`: retorna los elementos desde `start` hasta el final del arreglo.\n",
    "\n",
    "- `a[:end]`: retorna los elementos desde el principio hasta `end - 1`.\n",
    "\n",
    "- `a[:]`: crea una copia (*shallow*) del arreglo completo. Es decir, el arreglo retornado está en una nueva dirección de memoria, pero los elementos que están en este nuevo arreglo, hacen referencia a la dirección de memoria de los elementos del arreglo inicial.\n",
    "\n",
    "- `a[start:end:step]`: retorna los elementos desde `start` hasta no pasar `end`, en pasos de a `step`.\n",
    "\n",
    "- `a[-1]`: retorna el último elemento en el arreglo.\n",
    "\n",
    "- `a[-n:]`: retorna los últimos `n` elementos en el arreglo.\n",
    "\n",
    "- `a[:-n]`: retorna todos los elementos del arreglo menos los últimos `n` elementos."
   ]
  },
  {
   "cell_type": "markdown",
   "id": "6691e31c",
   "metadata": {},
   "source": [
    "## *Named tuples*"
   ]
  },
  {
   "cell_type": "code",
   "execution_count": null,
   "id": "046d908f",
   "metadata": {},
   "outputs": [],
   "source": []
  }
 ],
 "metadata": {
  "kernelspec": {
   "display_name": "Python 3 (ipykernel)",
   "language": "python",
   "name": "python3"
  },
  "language_info": {
   "codemirror_mode": {
    "name": "ipython",
    "version": 3
   },
   "file_extension": ".py",
   "mimetype": "text/x-python",
   "name": "python",
   "nbconvert_exporter": "python",
   "pygments_lexer": "ipython3",
   "version": "3.10.10"
  }
 },
 "nbformat": 4,
 "nbformat_minor": 5
}
