{
 "cells": [
  {
   "cell_type": "markdown",
   "id": "3036080c",
   "metadata": {},
   "source": [
    "<p>\n",
    "<font size='5' face='Georgia, Arial'>Resumen 2: Programación Avanzada</font><br>\n",
    "<font size='1'>Resumen sobre el material entregado por iic2233. Modificado el 2023-1</font>\n",
    "<br>\n",
    "</p>"
   ]
  },
  {
   "cell_type": "markdown",
   "id": "0549b937",
   "metadata": {},
   "source": [
    "# Objetos\n",
    "\n",
    "En el área de desarrollo de software, un **objeto** es una colección de **datos** que además tiene **comportamientos** asociados. \n",
    "\n",
    "- **Atributos:** describen los datos que caracterizan a un objeto.\n",
    "- **Métodos:** describen los comportamientos de los objetos.\n",
    "- **Instancia:** Un objeto es una instancia de una clase.\n",
    "\n",
    "**Observación:** Sobre como crear una clase, ver resumen introducción a la programación.\n",
    "\n"
   ]
  },
  {
   "cell_type": "markdown",
   "id": "d781c730",
   "metadata": {},
   "source": [
    "# Encapsulamiento\n",
    "El encapsulamiento se refiere al ocultamiento de los atributos de un objeto de manera que éstos sólo puedan ser modificados mediante los métodos que el programador defina."
   ]
  },
  {
   "cell_type": "markdown",
   "id": "d91a0a19",
   "metadata": {},
   "source": [
    "| Operación                                  | Código Python            |Descripción                                           |\n",
    "|--------------------------------------------|--------------------------|------------------------------------------------------|\n",
    "| Underscore                                 | `_metodo`                | Sugiere que el atributo es únicamente interno, pero aun asi se puede ver  |\n",
    "| Double underscore                          | `__metodo`               | Lo mismo que el anterior, pero en este caso no se puede leer  |\n",
    "| Name mangling  | `Clase._NombreDeLaClase__atributo_o_metodo_secreto` | Podemos leer el double underscore | \n"
   ]
  },
  {
   "cell_type": "markdown",
   "id": "e5e76bd3",
   "metadata": {},
   "source": [
    "Una consecuencia de tener atributos privados (o casi privados) es que si queremos modificarlos tenemos que, forzosamente, utilizar un método. En el paradigma OOP, se definen métodos específicos para **obtener el valor de un atributo (privado)**, y para **actualizar el valor de un atributo (privado)**. A estos métodos se llama respectivamente **getters** y **setters**."
   ]
  },
  {
   "cell_type": "code",
   "execution_count": 1,
   "id": "b0b1be99",
   "metadata": {},
   "outputs": [],
   "source": [
    "class Auto:\n",
    "    \n",
    "    def __init__(self, marca, color, km):\n",
    "        self.marca = marca\n",
    "        self.color = color\n",
    "        self.__kilometraje = km\n",
    "        self.dueño = None\n",
    "\n",
    "    ## Método getter\n",
    "    def get_kilometraje():\n",
    "        return self.__kilometraje\n",
    "    \n",
    "    ## Método setter\n",
    "    def set_kilometraje(kms):\n",
    "        self.__kilometraje = kms"
   ]
  },
  {
   "cell_type": "markdown",
   "id": "75a6db03",
   "metadata": {},
   "source": [
    "Python provee un mecanismo más sencillo para implementar el encapsulamiento: **property.**"
   ]
  },
  {
   "cell_type": "markdown",
   "id": "d706c7dd",
   "metadata": {},
   "source": [
    "## *Properties*: `property`\n",
    "\n",
    "En Python, una _property_ funciona como un atributo, pero sobre el cual podemos modificar su comportamiento cada vez que es leído (`get`), escrito (`set`), o eliminado (`del`)."
   ]
  },
  {
   "cell_type": "markdown",
   "id": "e8e08e7d",
   "metadata": {},
   "source": [
    "| Operación                                  | Código Python            |Descripción                                           |\n",
    "|--------------------------------------------|--------------------------|------------------------------------------------------|\n",
    "| Decorador `getter`                              | `@property`                | Esta `property` se comporta como un atributo `getter`  |\n",
    "| Decorador `setter`                          | `@nombre.setter`               | Nos permitira modificar el valor de la *property*  |\n",
    "| Otra manera de decorar | `nombre = property(_get_nombre, _set_nombre, _del_nombre)` | La función indica cual de sus métodos son *getter*, *setter* y *del*|\n"
   ]
  },
  {
   "cell_type": "code",
   "execution_count": 2,
   "id": "a6ad82a6",
   "metadata": {},
   "outputs": [
    {
     "name": "stdout",
     "output_type": "stream",
     "text": [
      "El kilometraje del porche es 100\n"
     ]
    }
   ],
   "source": [
    "class Auto:\n",
    "    \n",
    "    def __init__(self, marca, color, km):\n",
    "        self.marca = marca\n",
    "        self.color = color\n",
    "        self.__kilometraje = km\n",
    "        self.dueño = None\n",
    "\n",
    "    @property\n",
    "    def kilometraje(self):\n",
    "        return self.__kilometraje\n",
    "    \n",
    "    @kilometraje.setter\n",
    "    def kilometraje(self, kms):\n",
    "        self.__kilometraje = kms\n",
    "\n",
    "vehiculo = Auto('porche','azul', 0)\n",
    "\n",
    "vehiculo.kilometraje += 100\n",
    "\n",
    "print(f'El kilometraje del {vehiculo.marca} es {vehiculo.kilometraje}')"
   ]
  },
  {
   "cell_type": "markdown",
   "id": "ceb3d76d",
   "metadata": {},
   "source": [
    "# Herencia\n",
    "\n",
    "La **herencia** corresponde a una relación de **especialización** y **generalización** entre clases. En esta relación, una **clase** _hereda_ atributos y métodos de otra. Decimos que la que hereda es una **subclase**, y la otra es una **superclase**. El concepto de herencia nos permite aprovechar (reutilizar) código de las clases de las cuales se hereda.\n",
    "\n",
    "Ejemplo:\n",
    "\n",
    "Si `FurgónEscolar` **hereda** de `Auto`, también se dice que:\n",
    "- `FurgónEscolar` es una **especialización** de la clase `Auto`\n",
    "- `FurgónEscolar` es una **subclase** (o clase hija) de `Auto`\n",
    "- `FurgónEscolar` **extiende** la clase `Auto`\n",
    "- `Auto` es **superclase** (o clase madre) de `FurgonEscolar`"
   ]
  },
  {
   "cell_type": "code",
   "execution_count": 3,
   "id": "a29c8da4",
   "metadata": {},
   "outputs": [],
   "source": [
    "class Auto:\n",
    "    \n",
    "    def __init__(self, marca, modelo, año, color, km):\n",
    "        self.marca = marca\n",
    "        self.modelo = modelo\n",
    "        self.año = año\n",
    "        self.color = color\n",
    "        self.__kilometraje = km\n",
    "        self.__dueño = None\n",
    "\n",
    "    def conducir(self, kms):\n",
    "        print(f\"Conduciendo {kms} kilómetros\")\n",
    "        self.__kilometraje += kms\n",
    "\n",
    "    def vender(self, nuevo_dueño):\n",
    "        self.__dueño = nuevo_dueño\n",
    "        print(f\"Auto vendido a {nuevo_dueño}\")\n",
    "\n",
    "    def leer_odometro(self):\n",
    "        return self.__kilometraje\n",
    "\n",
    "\n",
    "class FurgónEscolar(Auto):\n",
    "    \"\"\"Subclase de Auto\"\"\"\n",
    "    \n",
    "    # Estamos haciendo overriding del __init__ original\n",
    "    def __init__(self, marca, modelo, año, color, kms):\n",
    "        # Aún queremos usar el __init__ original para setear los otros datos. Así es como podemos llamarlo.\n",
    "        Auto.__init__(self, marca, modelo, año, color, kms)\n",
    "        self.niños_y_niñas = []\n",
    "    \n",
    "    # inscribir_niño_o_niña es un método específico de esta subclase.\n",
    "    def inscribir_niño_o_niña(self, niño_o_niña):\n",
    "        self.niños_y_niñas.append(niño_o_niña)\n",
    "        \n",
    "    # Estamos haciendo overriding del método conducir original\n",
    "    def conducir(self, distancia):\n",
    "        # Acá no queremos usar la versión original de conducir\n",
    "        print(f\"Conduciendo con cuidado {distancia} kilómetros\")"
   ]
  },
  {
   "cell_type": "markdown",
   "id": "b316a60c",
   "metadata": {},
   "source": [
    "### Overriding\n",
    "\n",
    "La herencia nos permite **sobrescribir** los métodos que necesitemos modificar. En Python, podemos **volver a definir un método en una subclase**, con el mismo nombre que tenía en la superclase."
   ]
  },
  {
   "cell_type": "code",
   "execution_count": 4,
   "id": "60cb7eee",
   "metadata": {},
   "outputs": [],
   "source": [
    "class Auto:\n",
    "    \n",
    "    def __init__(self, ma, mo, a, c, k):\n",
    "        self.marca = ma\n",
    "        self.modelo = mo\n",
    "        self.año = a\n",
    "        self.color = c\n",
    "        self.__kilometraje = k\n",
    "        self.__dueño = None\n",
    "\n",
    "    def conducir(self, kms):\n",
    "        print(f\"Conduciendo {kms} kilómetros\")\n",
    "        self.__kilometraje += kms\n",
    "\n",
    "    def vender(self, nuevo_dueño):\n",
    "        self.__dueño = nuevo_dueño\n",
    "        print(f\"Auto vendido a {nuevo_dueño}\")\n",
    "\n",
    "    def leer_odometro(self):\n",
    "        return self.__kilometraje\n",
    "\n",
    "    \n",
    "class FurgónEscolar(Auto):\n",
    "    \"\"\"Subclase de Auto\"\"\"\n",
    "    \n",
    "    # Estamos haciendo overriding del __init__ original\n",
    "    def __init__(self, marca, modelo, año, color, kms):\n",
    "        # Aún queremos usar el __init__ original para setear los otros datos. Así es como podemos llamarlo.\n",
    "        Auto.__init__(self, marca, modelo, año, color, kms)\n",
    "        self.niños_y_niñas = []\n",
    "    \n",
    "    # inscribir_niño_o_niña es un método específico de esta subclase.\n",
    "    def inscribir_niño_o_niña(self, niño_o_niña):\n",
    "        self.niños_y_niñas.append(niño_o_niña)\n",
    "        \n",
    "    # Estamos haciendo overriding del método conducir original\n",
    "    def conducir(self, distancia):\n",
    "        # Acá no queremos usar la versión original de conducir\n",
    "        print(f\"Conduciendo con cuidado {distancia} kilómetros\")"
   ]
  },
  {
   "cell_type": "markdown",
   "id": "df4ea3df",
   "metadata": {},
   "source": [
    "## Obtener clase superior: `super()`\n",
    "\n",
    "Al sobrescribir el método __init__ en una clase hija, es importante inicializar tanto los nuevos atributos como los heredados. Si **no** se quiere modificar la manera en que se inicializan los atributos heredados, se puede llamar explícitamente al método de la superclase con `SuperClase.metodo(self, argumentos)`. También se puede utilizar el método `super()` para llamar a la implementación del método de la superclase sin nombrarla explícitamente, lo que mejora la mantenibilidad del código y evita problemas en caso de tener múltiples herencias."
   ]
  },
  {
   "cell_type": "code",
   "execution_count": 5,
   "id": "fe747cc8",
   "metadata": {},
   "outputs": [],
   "source": [
    "class FurgónEscolar(Auto):\n",
    "    \"\"\"Subclase de Auto\"\"\"\n",
    "    \n",
    "    # Estamos haciendo overriding del __init__ original\n",
    "    def __init__(self, marca, modelo, año, color, kms):\n",
    "        # Aún queremos usar el __init__ original para setear los otros datos. Así podemos llamarlo con super()\n",
    "        super().__init__(marca, modelo, año, color, kms)\n",
    "        self.niños_y_niñas = []\n",
    "    \n",
    "    # inscribir_niño_o_niña es un método específico de esta subclase.\n",
    "    def inscribir_niño_o_niña(self, niño_o_niña):\n",
    "        self.niños_y_niñas.append(niño_o_niña)\n",
    "        \n",
    "    # Estamos haciendo overriding del método conducir original\n",
    "    def conducir(self, distancia):\n",
    "        # Acá no queremos usar la versión original de conducir\n",
    "        print(f\"Conduciendo con cuidado {distancia} kilómetros\")  "
   ]
  },
  {
   "cell_type": "markdown",
   "id": "ce8a0748",
   "metadata": {},
   "source": [
    "# Diagrama de Clases\n",
    "\n",
    "El **diagrama de clases** es una herramienta muy útil que permite visualizar fácilmente las clases que componen un sistema, así como también sus atributos, métodos y las interacciones que existen entre ellas\n",
    "\n",
    "<img src=\"img/UML_mario_07.png\" width=\"800\">\n"
   ]
  }
 ],
 "metadata": {
  "kernelspec": {
   "display_name": "Python 3 (ipykernel)",
   "language": "python",
   "name": "python3"
  },
  "language_info": {
   "codemirror_mode": {
    "name": "ipython",
    "version": 3
   },
   "file_extension": ".py",
   "mimetype": "text/x-python",
   "name": "python",
   "nbconvert_exporter": "python",
   "pygments_lexer": "ipython3",
   "version": "3.10.10"
  }
 },
 "nbformat": 4,
 "nbformat_minor": 5
}
