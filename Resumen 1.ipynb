{
 "cells": [
  {
   "cell_type": "markdown",
   "id": "8f84df3f",
   "metadata": {},
   "source": [
    "<p>\n",
    "<font size='5' face='Georgia, Arial'>Resumen 1: Programación Avanzada</font><br>\n",
    "<font size='1'>Resumen sobre el material entregado por iic2233. Modificado el 2023-1</font>\n",
    "<br>\n",
    "</p>"
   ]
  },
  {
   "cell_type": "markdown",
   "id": "9e27af56",
   "metadata": {},
   "source": [
    "# Estructuras de datos *built-in* en Python\n",
    "\n",
    "Python posee varias estructuras de datos ya implementadas (*built-in*) para el manejo eficiente de datos\n",
    "\n",
    "Existen las estructuras de datos **secuenciales**, que **mantienen un orden entre sus elementos**:\n",
    "* **listas** (*lists*)\n",
    "* **tuplas** (*tuples*)\n",
    "* **pilas** (*stacks*) \n",
    "* **colas** (*queue*)\n",
    "\n",
    "y las que **no mantienen un orden establecido**,.\n",
    "\n",
    "* **diccionarios** (*dictionaries*)\n",
    "* **conjuntos** (*sets*)"
   ]
  },
  {
   "cell_type": "markdown",
   "id": "bfb6070c",
   "metadata": {},
   "source": [
    "# Tuplas\n",
    "Las **tuplas** (`tuple`) se utilizan para manejar datos de forma **ordenada** e **inmutable**, es decir, no se pueden cambiar los valores que contiene."
   ]
  },
  {
   "cell_type": "code",
   "execution_count": 1,
   "id": "55329fd5",
   "metadata": {},
   "outputs": [],
   "source": [
    "# Usando tuple() sin ingresar elementos, se crea una tupla vacía.\n",
    "a = tuple()\n",
    "\n",
    "# Declarando explícitamente los elementos de la tupla, ingresándolos entre paréntesis.\n",
    "b = (0, 1, 2)\n",
    "\n",
    "# Cuando creamos una tupla de tamaño 1, debemos incluir una coma al final\n",
    "c = (0, )\n",
    "\n",
    "# Pueden ser creadas con objetos de distinto tipo. Al momento de la creación se pueden omitir los paréntesis.\n",
    "d = 0, 'uno'"
   ]
  },
  {
   "cell_type": "markdown",
   "id": "0c2cd074",
   "metadata": {},
   "source": [
    "***Observación:*** Los elementos mutables que se encuentren dentro de una tupla si pueden ser modificados."
   ]
  },
  {
   "cell_type": "markdown",
   "id": "972e4d02",
   "metadata": {},
   "source": [
    "### *Slicing* de tuplas\n",
    "\n",
    "Es posible tomar secciones de la tupla usando la notación de ***slicing***."
   ]
  },
  {
   "cell_type": "markdown",
   "id": "bde1dbce",
   "metadata": {},
   "source": [
    "Forma general de hacer *slicing* en Python:\n",
    "\n",
    "- `a[start:end]`: retorna los elementos desde `start` hasta `end - 1`.\n",
    "\n",
    "- `a[start:]`: retorna los elementos desde `start` hasta el final del arreglo.\n",
    "\n",
    "- `a[:end]`: retorna los elementos desde el principio hasta `end - 1`.\n",
    "\n",
    "- `a[:]`: crea una copia (*shallow*) del arreglo completo. Es decir, el arreglo retornado está en una nueva dirección de memoria, pero los elementos que están en este nuevo arreglo, hacen referencia a la dirección de memoria de los elementos del arreglo inicial.\n",
    "\n",
    "- `a[start:end:step]`: retorna los elementos desde `start` hasta no pasar `end`, en pasos de a `step`.\n",
    "\n",
    "- `a[-1]`: retorna el último elemento en el arreglo.\n",
    "\n",
    "- `a[-n:]`: retorna los últimos `n` elementos en el arreglo.\n",
    "\n",
    "- `a[:-n]`: retorna todos los elementos del arreglo menos los últimos `n` elementos."
   ]
  },
  {
   "cell_type": "markdown",
   "id": "f6f8cb1b",
   "metadata": {},
   "source": [
    "# *Named tuples*\n",
    "Los [*named tuples*](https://docs.python.org/3/library/collections.html#collections.namedtuple) son estructuras que permiten definir campos para cada una de las posiciones en que han sido ingresados los datos. Generalmente, se utilizan como alternativa a las clases cuando los datos no tienen un comportamiento asociado. \n",
    "\n",
    "Para poder hacer uso de esta estructura se requiere importar el módulo `namedtuple` desde la librería `collections`. "
   ]
  },
  {
   "cell_type": "code",
   "execution_count": 2,
   "id": "92c249b5",
   "metadata": {},
   "outputs": [
    {
     "name": "stdout",
     "output_type": "stream",
     "text": [
      "13427974-5\n",
      "5\n",
      "<class '__main__.Register_type'>\n"
     ]
    }
   ],
   "source": [
    "from collections import namedtuple\n",
    "\n",
    "\n",
    "# Asignamos un nombre a la tupla (Register_type), y los nombres de los atributos que tendrá\n",
    "Register = namedtuple('Register_type', ['RUT', 'name', 'age'])\n",
    "\n",
    "# Instanciación e inicialización de la tupla\n",
    "c1 = Register('13427974-5', 'Christian', 20)\n",
    "c2 = Register('23066987-2', 'Dante', 5)\n",
    "\n",
    "print(c1.RUT)\n",
    "print(c2.age)\n",
    "print(type(c2))"
   ]
  },
  {
   "cell_type": "markdown",
   "id": "efab8f1a",
   "metadata": {},
   "source": [
    "# Listas\n",
    "Las **listas** (`list`) se utilizan para manejar datos de forma **ordenada** y **mutable**. Los contenidos pueden ser accedidos utilizando el índice correspondiente al orden en que se encuentran en la lista. A diferencia de las tuplas, el *orden* de los elementos de una lista, y *los elementos mismos* pueden cambiar mediante métodos que manipulan la lista.\n",
    "\n",
    "\n",
    "Operanciones principales en las listas:"
   ]
  },
  {
   "cell_type": "markdown",
   "id": "fd63ab32",
   "metadata": {},
   "source": [
    "\n",
    "| Operación                                  | Código Python            |Descripción                                           |\n",
    "|--------------------------------------------|--------------------------|------------------------------------------------------|\n",
    "| Crear *lista*                              | `lista = [] o list()`    |Crea un *lista* vacío                                 |\n",
    "| *Append*                         | `lista.append(elemento)` |Agrega un elemento al tope de la *lista*              |\n",
    "| *Extend*                     | `lista.extend()`         |Agrega una la lista completa y no cada elemento de forma individual |\n",
    "| *length*                                   | `len(lista)`             |Retorna la cantidad de elementos en la *lista*        |\n",
    "| *Insert*                                | `lista.insert(posición, elemento)`        |Inserta elementos en posiciones específicas |"
   ]
  },
  {
   "cell_type": "markdown",
   "id": "c349e5ed",
   "metadata": {},
   "source": [
    "### Listas por comprensión"
   ]
  },
  {
   "cell_type": "markdown",
   "id": "26072ee8",
   "metadata": {},
   "source": [
    "Las listas por comprensión se pueden ver como listas formadas por un conjunto de objetos que cumplen con un concepto o condición en particular."
   ]
  },
  {
   "cell_type": "code",
   "execution_count": 3,
   "id": "b55c337c",
   "metadata": {},
   "outputs": [
    {
     "name": "stdout",
     "output_type": "stream",
     "text": [
      "[9, 15, 19, 3, 15, 17, 17]\n"
     ]
    }
   ],
   "source": [
    "bandas = ['Radiohead', 'City and Colour', 'Of Monsters and Men',\n",
    "          'toe', 'Young the Giant', 'Portugal. The Man', 'Twenty One Pilots'\n",
    "         ]\n",
    "largo_de_bandas = []\n",
    "\n",
    "for nombre in bandas:\n",
    "    largo_de_bandas.append(len(nombre))\n",
    "\n",
    "print(largo_de_bandas)"
   ]
  },
  {
   "cell_type": "markdown",
   "id": "b39797fc",
   "metadata": {},
   "source": [
    "Usando **listas por comprensión**, podemos definir lo mismo de forma más clara y concisa siguiendo la siguiente sintaxis:\n",
    "\n",
    "`nueva_lista = [expresión for elemento in lista]`"
   ]
  },
  {
   "cell_type": "code",
   "execution_count": 4,
   "id": "5e029c1f",
   "metadata": {},
   "outputs": [
    {
     "name": "stdout",
     "output_type": "stream",
     "text": [
      "[9, 15, 19, 3, 15, 17, 17]\n"
     ]
    }
   ],
   "source": [
    "largo_de_bandas = [len(nombre) for nombre in bandas]\n",
    "\n",
    "print(largo_de_bandas)"
   ]
  },
  {
   "cell_type": "markdown",
   "id": "64e695f5",
   "metadata": {},
   "source": [
    "La sentencia `if` se puede usar dentro de una lista por comprensión para construir la lista incluyendo solamente los elementos que cumplan una cierta condición. \n",
    "\n",
    "`nueva_lista = [expresión for elemento in lista if condición]`"
   ]
  },
  {
   "cell_type": "code",
   "execution_count": 5,
   "id": "bf145284",
   "metadata": {},
   "outputs": [
    {
     "name": "stdout",
     "output_type": "stream",
     "text": [
      "['Radiohead', 'toe']\n"
     ]
    }
   ],
   "source": [
    "bandas_con_nombre_corto = [nombre for nombre in bandas if len(nombre) < 10]\n",
    "\n",
    "print(bandas_con_nombre_corto)"
   ]
  },
  {
   "cell_type": "markdown",
   "id": "a8847e5d",
   "metadata": {},
   "source": [
    "# *Stacks*\n",
    "\n",
    "Un *stack* es una estructura de datos que funciona como si fuera una pila de objetos, uno arriba del otro. En donde siempre sacaremos el último que hayamos puesto. \n",
    "\n",
    "Un *stack* tiene tres operaciones básicas:\n",
    "\n",
    "- ***Push:*** Agrega un elemento al tope del *stack*.\n",
    "- ***Pop:*** Elimina el elemento que está en el tope del *stack*. Esto siempre sacará el último elemento que haya sido agregado.\n",
    "- ***peek:*** Sólo muestra el elemento que está en el tope sin sacarlo del *stack*."
   ]
  },
  {
   "cell_type": "markdown",
   "id": "e5742b55",
   "metadata": {},
   "source": [
    "| Operación                                  | Código Python            |Descripción                                           |\n",
    "|--------------------------------------------|--------------------------|------------------------------------------------------|\n",
    "| Crear *stack*                              | `stack = []`             |Crea un *stack* vacío                                 |\n",
    "| *Push*                                     | `stack.append(elemento)` |Agrega un elemento al tope del *stack*                |\n",
    "| *Pop*                                      | `stack.pop()`            |Retorna y extrae el elemento del tope del *stack*     |\n",
    "| *Peek*                                     | `stack[-1]`              |Retorna el elemento del tope del *stack* sin extraerlo|\n",
    "| *length*                                   | `len(stack)`             |Retorna la cantidad de elementos en el *stack*        |\n",
    "| *is\\_empty*                                | `len(stack) == 0`        |Retorna `true` si el *stack* está vacío               |"
   ]
  },
  {
   "cell_type": "markdown",
   "id": "8e8afcef",
   "metadata": {},
   "source": [
    "# Colas (*queues*)\n",
    "\n",
    "Una cola es una estructura de datos secuencial que mantiene objetos ordenados de acuerdo a su orden de llegada. Una cola es una estructura de tipo ***First-in, First-out*** (FIFO).\n",
    "\n",
    "El módulo `collections` no provee exactamente la estructura *queue*, sino que una versión con más operaciones llamada *deque* (por *double ended queue*).\n",
    "\n",
    "| Operación                 | Código Python           | Descripción                                           |\n",
    "|---------------------------|-------------------------|-------------------------------------------------------|\n",
    "| Crear cola                | `cola = deque()`        | Crea una cola vacía                                   |\n",
    "| Crear cola                | `cola = deque(lista)`   | Crea una cola a partir de los elementos de una lista  |\n",
    "| *Enqueue*                 | `cola.append(elemento)` | Agrega un elemento al final de la cola                |\n",
    "| *Dequeue*                 | `cola.popleft()`        | Retorna y extrae el elemento del principio de la cola |\n",
    "| *Peek*                    | `cola[0]`               | Retorna el primer elemento de la cola sin extraerlo   |\n",
    "| *length*                  | `len(cola)`             | Retorna la cantidad de elementos en la cola           |\n",
    "|*is_empty*                 | `len(cola) == 0`        | Retorna true si la cola está vacía                    |\n",
    "\n",
    "***Observación:*** Para importar las colas debe realizar lo siguiente, `from collections import deque`."
   ]
  },
  {
   "cell_type": "markdown",
   "id": "7c07b7e8",
   "metadata": {},
   "source": [
    "# Colas de doble extremo (*deque*)\n",
    "\n",
    "Es una estructura secuencial en la que es posible **agregar y sacar elementos desde ambos extremos en forma eficiente**, con un *costo constante por operación*.\n",
    "\n",
    "| Operación      | Código Python                | Descripción                                                      |\n",
    "|----------------|------------------------------|------------------------------------------------------------------|\n",
    "| Crear *deque*  | `deque()`                    | Crea un *deque* vacío                                            |\n",
    "| Crear *deque*  | `deque(lista)`               | Crea un *deque* a partir de los elementos de una lista           |\n",
    "| *Add first*    | `deque.appendleft(elemento)` | Agrega un elemento al inicio del *deque*                         |\n",
    "| *Add last*     | `deque.append(elemento)`     | Agrega un elemento al final del *deque*                          |\n",
    "| *Delete first* | `deque.popleft()`            | Retorna y extrae el primer elemento del *deque*                  |\n",
    "| *Delete last*  | `deque.pop()`                | Retorna y extrae el último elemento del *deque*                  |\n",
    "| *First*        | `deque[0]`                   | Retorna sin extraer el primer elemento del *deque*               |\n",
    "| *Last*         | `deque[-1]`                  | Retorna sin extraer el último elemento del *deque*               |\n",
    "| *length*       | `len(deque)`                 | Retorna el número de elementos en el *deque*                     |\n",
    "| *Is empty*     | `len(deque) == 0`            | Retorna true si el *deque* está vacío                            |\n",
    "| *Clear*        | `deque.clear()`              | Limpia el *deque*                                                |\n",
    "| *Remove*       | `deque.remove(elemento)`     | Saca el primer elemento del *deque* que sea igual a `elemento`   |\n",
    "| *Count*        | `deque.count(elemento)`      | Cuenta el número de elementos iguales a `elemento` en el *deque* |\n",
    "\n"
   ]
  },
  {
   "cell_type": "markdown",
   "id": "03b4f658",
   "metadata": {},
   "source": [
    "# Diccionarios\n",
    "Un **diccionario** es una estructura de datos no secuencial y **mutable** que permite asociar pares de elementos mediante la relación **llave-valor**. Al diccionario se le consulta por una **llave** y retorna su **valor** asociado.\n",
    "\n",
    "En Python, los diccionarios están implementados por la clase `dict`. La notación para describir un diccionario es mediante llaves (`{}`), y cada par llave-valor se asocia con `:` como muestra el ejemplo:\n"
   ]
  },
  {
   "cell_type": "code",
   "execution_count": 6,
   "id": "8aa02aad",
   "metadata": {},
   "outputs": [],
   "source": [
    "diccionario = {\n",
    "    \"Chile\": \"Peso\",\n",
    "    \"Perú\": \"Soles\",\n",
    "    \"España\": \"Euro\", \n",
    "    \"Holanda\": \"Euro\",\n",
    "    \"Brasil\": \"Real\"\n",
    "}"
   ]
  },
  {
   "cell_type": "markdown",
   "id": "47ce5609",
   "metadata": {},
   "source": [
    "| Operación                 | Código Python           | Descripción                                           |\n",
    "|---------------------------|-------------------------|-------------------------------------------------------|\n",
    "| Crear diccionario            | `diccionario = dict()`        | Se crea un diccionario vacio                 |\n",
    "| Crear valor           | `diccionario[nombre_llave] = nombre_valor`        | Se crea un diccionario vacio                 |\n",
    "| Acceder valor             | `diccionario[nombre_llave]`        | Se accede al valor asociado a la llave, si no existe, tira error     |\n",
    "| Acceder valor             | `diccionario.get(nombre_llave, valor_error]`   | Se accede al valor asociado a la llave, si no existe, arroja `valor_error`  |\n",
    "| Eliminar item             | `del diccionario[nombre_llave]`   | Elimina el item del diccionario asociado a la llave dada  |\n",
    "| llaves                    | `diccionario.keys()]`   | Permite obtener una lista con las llaves del diccionario  |\n",
    "| Valores                   | `diccionario.values()`  | Permite obtener una lista con los valores del diccionario |\n",
    "| Items                     | `diccionario.items()`   | Permite obtener una lista con los **pares** que tiene el diccionario. Cada par es una tupla de la forma `(llave, valor)` |"
   ]
  },
  {
   "cell_type": "markdown",
   "id": "cdb9faae",
   "metadata": {},
   "source": [
    "Como los diccionarios son **mutables**, si se asigna un valor a una llave existen dos comportamientos posibles. Si la llave no existe, ésta se crea y se le asigna un valor."
   ]
  },
  {
   "cell_type": "code",
   "execution_count": 7,
   "id": "0c94ff7e",
   "metadata": {},
   "outputs": [
    {
     "name": "stdout",
     "output_type": "stream",
     "text": [
      "{'Chile': 'Peso', 'Perú': 'Soles', 'España': 'Euro', 'Holanda': 'Euro', 'Brasil': 'Real', 'Vaticano': 'Lira'}\n"
     ]
    }
   ],
   "source": [
    "diccionario[\"Vaticano\"] = \"Lira\"\n",
    "print(diccionario)"
   ]
  },
  {
   "cell_type": "markdown",
   "id": "a3ff17b1",
   "metadata": {},
   "source": [
    "Si la llave ya existe, se actualiza con el nuevo valor:"
   ]
  },
  {
   "cell_type": "code",
   "execution_count": 8,
   "id": "d233034f",
   "metadata": {},
   "outputs": [
    {
     "name": "stdout",
     "output_type": "stream",
     "text": [
      "{'Chile': 'Peso', 'Perú': 'Soles', 'España': 'Euro', 'Holanda': 'Euro', 'Brasil': 'Real', 'Vaticano': 'Euro'}\n"
     ]
    }
   ],
   "source": [
    "diccionario[\"Vaticano\"] = \"Euro\"\n",
    "print(diccionario)"
   ]
  },
  {
   "cell_type": "code",
   "execution_count": 9,
   "id": "9845a8f7",
   "metadata": {},
   "outputs": [
    {
     "name": "stdout",
     "output_type": "stream",
     "text": [
      "dict_keys(['Chile', 'Perú', 'España', 'Holanda', 'Brasil', 'Vaticano'])\n",
      "dict_values(['Peso', 'Soles', 'Euro', 'Euro', 'Real', 'Euro'])\n",
      "dict_items([('Chile', 'Peso'), ('Perú', 'Soles'), ('España', 'Euro'), ('Holanda', 'Euro'), ('Brasil', 'Real'), ('Vaticano', 'Euro')])\n"
     ]
    }
   ],
   "source": [
    "print(diccionario.keys()) # una lista con todas las llaves\n",
    "print(diccionario.values()) # una lista con todos los valores\n",
    "print(diccionario.items()) # una lista con tuplas de pares llave-valor"
   ]
  },
  {
   "cell_type": "markdown",
   "id": "ba144ae3",
   "metadata": {},
   "source": [
    "***Observación:***\n",
    "- Si no se especifica nada, se recorren las llaves con la función `in`.\n",
    "- Para agregar un valor, la llave debe existir o debe ser creada.\n",
    "- Las llaves deben ser únicas y [*hasheable*](https://docs.python.org/3/glossary.html#term-hashable) (En particular, todos los *built-ins* de Python que son **inmutables** son *hasheables*)."
   ]
  },
  {
   "cell_type": "markdown",
   "id": "7c52ba44",
   "metadata": {},
   "source": [
    "### Diccionarios por comprensión\n",
    "\n",
    "De forma similar a otras estructuras, en Python es posible definir diccionarios por comprensión. Esto permite escribir y crear diccionarios a partir de un concepto estructurado. Permite también el uso de filtrado dentro de éste."
   ]
  },
  {
   "cell_type": "code",
   "execution_count": 10,
   "id": "bce71001",
   "metadata": {},
   "outputs": [
    {
     "name": "stdout",
     "output_type": "stream",
     "text": [
      "{'A': 1, 'B': 2, 'C': 3, 'D': 4, 'E': 5, 'F': 6, 'G': 7, 'H': 8, 'I': 9, 'J': 10, 'K': 11, 'L': 12, 'M': 13, 'N': 14, 'O': 15, 'P': 16, 'Q': 17, 'R': 18, 'S': 19, 'T': 20, 'U': 21, 'V': 22, 'W': 23, 'X': 24, 'Y': 25, 'Z': 26}\n",
      "{'A': 1, 'E': 5, 'I': 9, 'O': 15, 'U': 21}\n"
     ]
    }
   ],
   "source": [
    "from string import ascii_lowercase as letras\n",
    "\n",
    "\n",
    "# Diccionario por comprensión\n",
    "numero_por_letra = {letras[i].upper(): i + 1 for i in range(len(letras))}\n",
    "print(numero_por_letra)\n",
    "\n",
    "numero_por_vocales = {letras[i].upper(): i + 1 for i in range(len(letras)) if letras[i].upper() in \"AEIOU\"}\n",
    "print(numero_por_vocales)"
   ]
  },
  {
   "cell_type": "markdown",
   "id": "eee3ae40",
   "metadata": {},
   "source": [
    "### Defaultdics\n",
    "Los `defaultdicts` reciben una función (o un *callable*) que debe devolver el valor que se asignará por defecto a la nueva llave creada. Esta función *no debe recibir parámetros*, puede realizar cualquier acción, y puede devolver cualquier objeto, el cual será asignado como valor para el respectivo *key* en el diccionario."
   ]
  },
  {
   "cell_type": "code",
   "execution_count": 11,
   "id": "f700c026",
   "metadata": {},
   "outputs": [
    {
     "name": "stdout",
     "output_type": "stream",
     "text": [
      "defaultdict(<function funcion_default at 0x000002955E73BE20>, {})\n",
      "defaultdict(<function funcion_default at 0x000002955E73BE20>, {'A': 0.5742860568996825})\n",
      "defaultdict(<function funcion_default at 0x000002955E73BE20>, {'A': 0.5742860568996825, 'B': 0.9202496965971948})\n"
     ]
    }
   ],
   "source": [
    "from collections import defaultdict\n",
    "from random import random\n",
    "\n",
    "\n",
    "def funcion_default():\n",
    "    return random()\n",
    "\n",
    "\n",
    "diccionario = defaultdict(funcion_default)\n",
    "\n",
    "print(diccionario)\n",
    "diccionario['A']\n",
    "print(diccionario)\n",
    "diccionario['B']\n",
    "print(diccionario)"
   ]
  },
  {
   "cell_type": "markdown",
   "id": "6027b3da",
   "metadata": {},
   "source": [
    "# *Sets*"
   ]
  },
  {
   "cell_type": "markdown",
   "id": "4f9f08b6",
   "metadata": {},
   "source": [
    "Los *sets* son contenedores **mutables**, **no *hasheables***, y **no ordenados** que no repiten elementos. Tienen un comportamiento similar a los [conjuntos matemáticos](https://es.wikipedia.org/wiki/Conjunto). Los *sets* pueden contener cualquier objeto *hasheable*, los mismos que pueden ser llave en un diccionario.\n",
    "\n",
    "En Python, los *sets* son implementados por la clase `set`. Es posible crear un *set* vacío con `set()`."
   ]
  },
  {
   "cell_type": "markdown",
   "id": "19e7bfe4",
   "metadata": {},
   "source": [
    "### Operaciones sobre *sets*\n",
    "\n",
    "| Operación                                  | Código Python            |Descripción                                           |\n",
    "|--------------------------------------------|--------------------------|------------------------------------------------------|\n",
    "| Crear *sets*                              | `conjunto = set() o {}`    | Crea un *sets* vacío                                 |\n",
    "| *length*                              | `len(conjunto)`    | Revisa la cantidad de elementos en el *sets*   |\n",
    "| *Add* | `conjunto.add(elemento)` | Se le añade un elemento al *set* |\n",
    "| *Remove* | `conjunto.remove(elemento)` | Saca un elemento del *set* |\n",
    "| *Discard* | `conjunto.discard(elemento)` | Operación similar a *remove*. solo que no arroja error |\n",
    "| *For* | `for elemento in conjunto:` | Se itera por elemento |\n",
    "| *In* | `elemento in conjunto:` | Retorna `True` o `False` dependiendo si se encuetra el elemento |\n",
    "| Unión de conjuntos | \"ejemplo siguiente\" | Nuevo conjunto que tenga todos los elemenots de los conjuntos que se unen |\n",
    "| Intersección de conjuntos | ` &` 'o' `.intersection()` | Nuevo conjunto que tenga los elementos que se itersectan |\n",
    "| Diferencia de conjuntos | ` -` 'o' `.difference()` | Nuevo conjunto que tenga los elementos que están en un conjunto, pero que no estén en otro |\n",
    "| Diferencia simetrica de conjuntos | ` ^` 'o' `.symmetric_difference()` | Nuevo conjunto de objetos que están en un conjunto o en el otro, pero no en ambos.|\n"
   ]
  },
  {
   "cell_type": "markdown",
   "id": "3622a629",
   "metadata": {},
   "source": [
    "***Observación:*** Podemos usar *sets* para eliminar duplicados de una lista"
   ]
  },
  {
   "cell_type": "markdown",
   "id": "295bc2ae",
   "metadata": {},
   "source": [
    "### Unión de conjuntos:\n",
    "Se utiliza el operador  `&`."
   ]
  },
  {
   "cell_type": "code",
   "execution_count": 12,
   "id": "2542d08b",
   "metadata": {},
   "outputs": [
    {
     "name": "stdout",
     "output_type": "stream",
     "text": [
      "{0, 1, 2, 3, 4, 5}\n"
     ]
    }
   ],
   "source": [
    "set_a = {0, 1, 2, 3}\n",
    "set_b = {5, 4, 3, 2}\n",
    "set_union = set_a | set_b\n",
    "print(set_union)"
   ]
  },
  {
   "cell_type": "markdown",
   "id": "66a8a664",
   "metadata": {},
   "source": [
    "También se puede ocupar el método `intersection`."
   ]
  },
  {
   "cell_type": "code",
   "execution_count": 13,
   "id": "ed51737f",
   "metadata": {},
   "outputs": [
    {
     "name": "stdout",
     "output_type": "stream",
     "text": [
      "{2, 3}\n"
     ]
    }
   ],
   "source": [
    "set_intersection = set_a.intersection(set_b)\n",
    "print(set_intersection)"
   ]
  },
  {
   "cell_type": "markdown",
   "id": "203a8ae0",
   "metadata": {},
   "source": [
    "### Ejemplos"
   ]
  },
  {
   "cell_type": "code",
   "execution_count": 14,
   "id": "7f7f795b",
   "metadata": {},
   "outputs": [
    {
     "name": "stdout",
     "output_type": "stream",
     "text": [
      "set()\n"
     ]
    }
   ],
   "source": [
    "conjunto_vacío = set()\n",
    "print(conjunto_vacío)"
   ]
  },
  {
   "cell_type": "code",
   "execution_count": 15,
   "id": "6bcb460a",
   "metadata": {},
   "outputs": [
    {
     "name": "stdout",
     "output_type": "stream",
     "text": [
      "{'Mon Laferte', 'Daddy Yankee', 'Olivia Newton-John', 'Dream Theater', 'Sting'}\n"
     ]
    }
   ],
   "source": [
    "lista_artistas = [\"Olivia Newton-John\", \"Daddy Yankee\", \"Sting\", \n",
    "                  \"Dream Theater\", \"Mon Laferte\", \"Sting\"]\n",
    "print(set(lista_artistas))"
   ]
  },
  {
   "cell_type": "code",
   "execution_count": 16,
   "id": "c6ba4bb0",
   "metadata": {},
   "outputs": [
    {
     "name": "stdout",
     "output_type": "stream",
     "text": [
      "{'Mon Laferte', 'Dream Theater', 'Daddy Yankee', 'Olivia Newton-John', 'Sting'}\n"
     ]
    }
   ],
   "source": [
    "conjunto_artistas = {\"Olivia Newton-John\", \"Daddy Yankee\", \"Sting\", \n",
    "                     \"Dream Theater\", \"Mon Laferte\"}\n",
    "print(conjunto_artistas)"
   ]
  }
 ],
 "metadata": {
  "kernelspec": {
   "display_name": "Python 3 (ipykernel)",
   "language": "python",
   "name": "python3"
  },
  "language_info": {
   "codemirror_mode": {
    "name": "ipython",
    "version": 3
   },
   "file_extension": ".py",
   "mimetype": "text/x-python",
   "name": "python",
   "nbconvert_exporter": "python",
   "pygments_lexer": "ipython3",
   "version": "3.10.10"
  }
 },
 "nbformat": 4,
 "nbformat_minor": 5
}
