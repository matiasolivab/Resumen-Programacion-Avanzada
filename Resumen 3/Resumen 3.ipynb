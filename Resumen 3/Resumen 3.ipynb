{
 "cells": [
  {
   "cell_type": "markdown",
   "id": "9710cfe7",
   "metadata": {},
   "source": [
    "# Polimorfismo\n",
    "El **polimorfismo** se refiere a \"la propiedad por la que es posible enviar mensajes sintácticamente iguales a objetos de tipos distintos\".\n",
    "\n",
    "Dos mecanismo para proveer polimorfismo son _overriding_ y _overloading_.\n",
    "\n",
    "- ***Overriding***: ocurre cuando se implementa un método en una subclase que sobreescribe la implementación del mismo método en la super clase\n",
    "   \n",
    "- ***Overloading***: es la capacidad de definir un método con el mismo nombre pero con distinto número y tipo de argumentos. Es la capacidad de una función de ejecutar distintas acciones dependiendo del tipo y número de argumentos que recibe."
   ]
  },
  {
   "cell_type": "markdown",
   "id": "0b808b26",
   "metadata": {},
   "source": [
    "## *Overriding*\n",
    "Como se mencionó anteriormente, una subclase puede sobreescribir la implementación de los distintos métodos que hereda. A continuación se encuentra un ejemplo en el que se crea una clase superior de nombre `Variable`, la cual almacena un conjunto de datos en el atributo `data`. Se definen tres subclases: `Ingresos`, `Comuna` y `Puesto`. Cada uno, como subclase, posee un atributo `data`, y una implementación distinta del método `representante`.\n",
    "![](img/OOP_polimorfismo.png)"
   ]
  },
  {
   "cell_type": "markdown",
   "id": "8b7085c1",
   "metadata": {},
   "source": [
    "## *Overloading* de operadores en Python\n",
    "\n",
    "Python nos permite personalizar el método `__add__` para que el operador \"+\" funcione en algún tipo de clase específica que necesitemos. Por ejemplo, supongamos una clase que representa un carro de compra:"
   ]
  },
  {
   "cell_type": "code",
   "execution_count": 1,
   "id": "9aaf7abd",
   "metadata": {},
   "outputs": [],
   "source": [
    "class Carro:\n",
    "\n",
    "    def __init__(self, pan, leche, agua):\n",
    "        self.pan = pan\n",
    "        self.leche = leche\n",
    "        self.agua = agua\n",
    "    \n",
    "    def __add__(self, otro):\n",
    "        \n",
    "        suma_pan = self.pan + otro.pan\n",
    "        suma_leche = self.leche + otro.leche\n",
    "        suma_agua = self.agua + otro.agua\n",
    "            \n",
    "        return Carro(suma_pan, suma_leche, suma_agua)\n",
    "    \n",
    "    def __str__(self):\n",
    "        return f\"Pan:{self.pan}, Leche:{self.leche}, Agua:{self.agua}\""
   ]
  },
  {
   "cell_type": "code",
   "execution_count": 2,
   "id": "bdcc99a4",
   "metadata": {},
   "outputs": [
    {
     "name": "stdout",
     "output_type": "stream",
     "text": [
      "Pan:4, Leche:6, Agua:8\n"
     ]
    }
   ],
   "source": [
    "carro_1 = Carro(1, 2, 3)\n",
    "carro_2 = Carro(3, 4, 5)\n",
    "carro_sumado = carro_1 + carro_2\n",
    "print(carro_sumado)"
   ]
  },
  {
   "cell_type": "markdown",
   "id": "fd9fded3",
   "metadata": {},
   "source": [
    "**Observación:** Existen diversos operadores, tales como el anterior, menor que (`__lt__`), etc\n",
    "\n",
    "\n",
    "\n",
    "## `__repr__` vs `__str__`"
   ]
  },
  {
   "cell_type": "markdown",
   "id": "ac24f873",
   "metadata": {},
   "source": [
    "Podemos implementar los métodos `__repr__` y `__str__` para entregar una representación en texto de nuestro objeto. Estos métodos deben retornar un *string*, el que podrá ser usado por la función `print`. Si se implementan ambos, `print` utiliza `__str__`.\n",
    "\n",
    "La diferencia entre  `__str__` y `__repr__` es sutil. Si bien ambos devuelven una representación del objeto en forma de *string*, cada representación persigue un objetivo distinto. Por una parte, `__str__` busca devolver una representación legible del objeto. Por otra parte, `__repr__` tiene por objetivo ofrecer una representación completa y sin ambigüedades del objeto."
   ]
  },
  {
   "cell_type": "code",
   "execution_count": 3,
   "id": "7b857415",
   "metadata": {},
   "outputs": [],
   "source": [
    "class Fraccion:\n",
    "    def __init__(self, numerador, denominador): \n",
    "        self.numerador = numerador \n",
    "        self.denominador = denominador\n",
    "        \n",
    "    def __repr__(self):\n",
    "        return f\"Fraccion({self.numerador}, {self.denominador})\"\n",
    "    \n",
    "    def __str__(self):\n",
    "        return f\"{self.numerador} / {self.denominador}\"\n",
    "    \n",
    "frac = Fraccion(3, 4)"
   ]
  },
  {
   "cell_type": "code",
   "execution_count": 4,
   "id": "27337a09",
   "metadata": {},
   "outputs": [
    {
     "data": {
      "text/plain": [
       "'Fraccion(3, 4)'"
      ]
     },
     "execution_count": 4,
     "metadata": {},
     "output_type": "execute_result"
    }
   ],
   "source": [
    "repr(frac)"
   ]
  },
  {
   "cell_type": "code",
   "execution_count": 5,
   "id": "aff1e017",
   "metadata": {},
   "outputs": [
    {
     "data": {
      "text/plain": [
       "'3 / 4'"
      ]
     },
     "execution_count": 5,
     "metadata": {},
     "output_type": "execute_result"
    }
   ],
   "source": [
    "str(frac)"
   ]
  },
  {
   "cell_type": "code",
   "execution_count": 6,
   "id": "38786e1c",
   "metadata": {},
   "outputs": [
    {
     "name": "stdout",
     "output_type": "stream",
     "text": [
      "3 / 4\n"
     ]
    }
   ],
   "source": [
    "print(frac)"
   ]
  },
  {
   "cell_type": "markdown",
   "id": "43a3d605",
   "metadata": {},
   "source": [
    "# *Duck typing*\n",
    "*Duck typing* es una característica de algunos lenguajes que hace que el polimorfismo sea menos atractivo, ya que el lenguaje por sí sólo es capaz de generar comportamiento polimórfico sin la necesidad de implementar el polimorfismo a través de la herencia. \n",
    "\n",
    "Si escribimos una función que recibe un argumento, no sabemos, al momento de programarlo, qué tipo de dato recibirá este objeto. Y no necesitamos saberlo, pues el mecanismo de *duck typing* determinará al momento de ejecutar, qué método se invocará, de acuerdo con el tipo de dato.\n",
    "\n",
    "**Ejemplos:**"
   ]
  },
  {
   "cell_type": "code",
   "execution_count": null,
   "id": "4fd7e1a3",
   "metadata": {},
   "outputs": [],
   "source": [
    "class Pato:\n",
    "    def gritar(self):\n",
    "        print(\"Quack!\")\n",
    "        \n",
    "    def caminar(self):\n",
    "        print(\"Caminando como un pato\")        \n",
    "    \n",
    "class Persona:\n",
    "    def gritar(self):\n",
    "        print(\"¡Ahhh!\")\n",
    "        \n",
    "    def caminar(self):\n",
    "        print(\"Caminando como un humano\")"
   ]
  },
  {
   "cell_type": "code",
   "execution_count": null,
   "id": "500ec03e",
   "metadata": {},
   "outputs": [],
   "source": [
    "def activar(pato):  # Esto, en otro tipo de lenguaje, obligaría a que pato sea del tipo \"Pato\", por lo tanto\n",
    "    pato.gritar()   # la función activar no podría ser llamada con un argumento tipo \"Persona\"\n",
    "    pato.caminar()\n",
    "\n",
    "donald = Pato()\n",
    "juan = Persona()\n",
    "activar(donald)\n",
    "activar(juan)"
   ]
  },
  {
   "cell_type": "markdown",
   "id": "fa4683f4",
   "metadata": {},
   "source": [
    "**Observación:** *Duck typing eligira por si solo de que clase usara `.gritar()` y `.caminar()`."
   ]
  },
  {
   "cell_type": "code",
   "execution_count": null,
   "id": "0e6ae78a",
   "metadata": {},
   "outputs": [],
   "source": []
  }
 ],
 "metadata": {
  "kernelspec": {
   "display_name": "Python 3 (ipykernel)",
   "language": "python",
   "name": "python3"
  },
  "language_info": {
   "codemirror_mode": {
    "name": "ipython",
    "version": 3
   },
   "file_extension": ".py",
   "mimetype": "text/x-python",
   "name": "python",
   "nbconvert_exporter": "python",
   "pygments_lexer": "ipython3",
   "version": "3.10.10"
  }
 },
 "nbformat": 4,
 "nbformat_minor": 5
}
