{
 "cells": [
  {
   "cell_type": "markdown",
   "id": "9710cfe7",
   "metadata": {},
   "source": [
    "# Polimorfismo\n",
    "El **polimorfismo** se refiere a \"la propiedad por la que es posible enviar mensajes sintácticamente iguales a objetos de tipos distintos\".\n",
    "\n",
    "Dos mecanismo para proveer polimorfismo son _overriding_ y _overloading_.\n",
    "\n",
    "- ***Overriding***: ocurre cuando se implementa un método en una subclase que sobreescribe la implementación del mismo método en la super clase\n",
    "   \n",
    "- ***Overloading***: es la capacidad de definir un método con el mismo nombre pero con distinto número y tipo de argumentos. Es la capacidad de una función de ejecutar distintas acciones dependiendo del tipo y número de argumentos que recibe."
   ]
  },
  {
   "cell_type": "markdown",
   "id": "0b808b26",
   "metadata": {},
   "source": [
    "## *Overriding*\n",
    "Como se mencionó anteriormente, una subclase puede sobreescribir la implementación de los distintos métodos que hereda. A continuación se encuentra un ejemplo en el que se crea una clase superior de nombre `Variable`, la cual almacena un conjunto de datos en el atributo `data`. Se definen tres subclases: `Ingresos`, `Comuna` y `Puesto`. Cada uno, como subclase, posee un atributo `data`, y una implementación distinta del método `representante`.\n",
    "![](img/OOP_polimorfismo.png)"
   ]
  },
  {
   "cell_type": "markdown",
   "id": "8b7085c1",
   "metadata": {},
   "source": [
    "## *Overloading* de operadores en Python\n",
    "\n",
    "Python nos permite personalizar el método `__add__` para que el operador \"+\" funcione en algún tipo de clase específica que necesitemos. Por ejemplo, supongamos una clase que representa un carro de compra:"
   ]
  },
  {
   "cell_type": "code",
   "execution_count": 1,
   "id": "9aaf7abd",
   "metadata": {},
   "outputs": [],
   "source": [
    "class Carro:\n",
    "\n",
    "    def __init__(self, pan, leche, agua):\n",
    "        self.pan = pan\n",
    "        self.leche = leche\n",
    "        self.agua = agua\n",
    "    \n",
    "    def __add__(self, otro):\n",
    "        \n",
    "        suma_pan = self.pan + otro.pan\n",
    "        suma_leche = self.leche + otro.leche\n",
    "        suma_agua = self.agua + otro.agua\n",
    "            \n",
    "        return Carro(suma_pan, suma_leche, suma_agua)\n",
    "    \n",
    "    def __str__(self):\n",
    "        return f\"Pan:{self.pan}, Leche:{self.leche}, Agua:{self.agua}\""
   ]
  },
  {
   "cell_type": "code",
   "execution_count": 2,
   "id": "bdcc99a4",
   "metadata": {},
   "outputs": [
    {
     "name": "stdout",
     "output_type": "stream",
     "text": [
      "Pan:4, Leche:6, Agua:8\n"
     ]
    }
   ],
   "source": [
    "carro_1 = Carro(1, 2, 3)\n",
    "carro_2 = Carro(3, 4, 5)\n",
    "carro_sumado = carro_1 + carro_2\n",
    "print(carro_sumado)"
   ]
  },
  {
   "cell_type": "markdown",
   "id": "fd9fded3",
   "metadata": {},
   "source": [
    "**Observación:** Existen diversos operadores, tales como el anterior, menor que (`__lt__`), etc\n",
    "\n",
    "\n",
    "\n",
    "## `__repr__` vs `__str__`"
   ]
  },
  {
   "cell_type": "markdown",
   "id": "ac24f873",
   "metadata": {},
   "source": [
    "Podemos implementar los métodos `__repr__` y `__str__` para entregar una representación en texto de nuestro objeto. Estos métodos deben retornar un *string*, el que podrá ser usado por la función `print`. Si se implementan ambos, `print` utiliza `__str__`.\n",
    "\n",
    "La diferencia entre  `__str__` y `__repr__` es sutil. Si bien ambos devuelven una representación del objeto en forma de *string*, cada representación persigue un objetivo distinto. Por una parte, `__str__` busca devolver una representación legible del objeto. Por otra parte, `__repr__` tiene por objetivo ofrecer una representación completa y sin ambigüedades del objeto."
   ]
  },
  {
   "cell_type": "code",
   "execution_count": 3,
   "id": "7b857415",
   "metadata": {},
   "outputs": [],
   "source": [
    "class Fraccion:\n",
    "    def __init__(self, numerador, denominador): \n",
    "        self.numerador = numerador \n",
    "        self.denominador = denominador\n",
    "        \n",
    "    def __repr__(self):\n",
    "        return f\"Fraccion({self.numerador}, {self.denominador})\"\n",
    "    \n",
    "    def __str__(self):\n",
    "        return f\"{self.numerador} / {self.denominador}\"\n",
    "    \n",
    "frac = Fraccion(3, 4)"
   ]
  },
  {
   "cell_type": "code",
   "execution_count": 4,
   "id": "27337a09",
   "metadata": {},
   "outputs": [
    {
     "data": {
      "text/plain": [
       "'Fraccion(3, 4)'"
      ]
     },
     "execution_count": 4,
     "metadata": {},
     "output_type": "execute_result"
    }
   ],
   "source": [
    "repr(frac)"
   ]
  },
  {
   "cell_type": "code",
   "execution_count": 5,
   "id": "aff1e017",
   "metadata": {},
   "outputs": [
    {
     "data": {
      "text/plain": [
       "'3 / 4'"
      ]
     },
     "execution_count": 5,
     "metadata": {},
     "output_type": "execute_result"
    }
   ],
   "source": [
    "str(frac)"
   ]
  },
  {
   "cell_type": "code",
   "execution_count": 6,
   "id": "38786e1c",
   "metadata": {},
   "outputs": [
    {
     "name": "stdout",
     "output_type": "stream",
     "text": [
      "3 / 4\n"
     ]
    }
   ],
   "source": [
    "print(frac)"
   ]
  },
  {
   "cell_type": "markdown",
   "id": "43a3d605",
   "metadata": {},
   "source": [
    "# *Duck typing*\n",
    "*Duck typing* es una característica de algunos lenguajes que hace que el polimorfismo sea menos atractivo, ya que el lenguaje por sí sólo es capaz de generar comportamiento polimórfico sin la necesidad de implementar el polimorfismo a través de la herencia. \n",
    "\n",
    "Si escribimos una función que recibe un argumento, no sabemos, al momento de programarlo, qué tipo de dato recibirá este objeto. Y no necesitamos saberlo, pues el mecanismo de *duck typing* determinará al momento de ejecutar, qué método se invocará, de acuerdo con el tipo de dato.\n",
    "\n",
    "**Ejemplos:**"
   ]
  },
  {
   "cell_type": "code",
   "execution_count": 7,
   "id": "4fd7e1a3",
   "metadata": {},
   "outputs": [],
   "source": [
    "class Pato:\n",
    "    def gritar(self):\n",
    "        print(\"Quack!\")\n",
    "        \n",
    "    def caminar(self):\n",
    "        print(\"Caminando como un pato\")        \n",
    "    \n",
    "class Persona:\n",
    "    def gritar(self):\n",
    "        print(\"¡Ahhh!\")\n",
    "        \n",
    "    def caminar(self):\n",
    "        print(\"Caminando como un humano\")"
   ]
  },
  {
   "cell_type": "code",
   "execution_count": 8,
   "id": "500ec03e",
   "metadata": {},
   "outputs": [
    {
     "name": "stdout",
     "output_type": "stream",
     "text": [
      "Quack!\n",
      "Caminando como un pato\n",
      "¡Ahhh!\n",
      "Caminando como un humano\n"
     ]
    }
   ],
   "source": [
    "def activar(pato):  # Esto, en otro tipo de lenguaje, obligaría a que pato sea del tipo \"Pato\", por lo tanto\n",
    "    pato.gritar()   # la función activar no podría ser llamada con un argumento tipo \"Persona\"\n",
    "    pato.caminar()\n",
    "\n",
    "donald = Pato()\n",
    "juan = Persona()\n",
    "activar(donald)\n",
    "activar(juan)"
   ]
  },
  {
   "cell_type": "markdown",
   "id": "fa4683f4",
   "metadata": {},
   "source": [
    "**Observación:** *Duck typing eligira por si solo de que clase usara `.gritar()` y `.caminar()`."
   ]
  },
  {
   "cell_type": "markdown",
   "id": "d3dd5aa8",
   "metadata": {},
   "source": [
    "# Multiherencia\n",
    "Tal como es posible que una subclase herede datos y comportamiento de una superclase, también es posible heredar\n",
    "de más de una clase a la vez. Esto se conoce en OOP como **multiherencia**."
   ]
  },
  {
   "cell_type": "code",
   "execution_count": 9,
   "id": "657c1f7d",
   "metadata": {},
   "outputs": [
    {
     "name": "stdout",
     "output_type": "stream",
     "text": [
      "Emilia Donoso\n",
      "Inteligencia de Máquina\n",
      "Ciencia De La Computación\n"
     ]
    }
   ],
   "source": [
    "class Investigador:\n",
    "\n",
    "    def __init__(self, area='', **kwargs):\n",
    "        # Utilizamos super() para heredar correctamente\n",
    "        super().__init__(**kwargs)\n",
    "        self.area = area\n",
    "        self.num_publicaciones = 0\n",
    "\n",
    "\n",
    "class Docente:\n",
    "\n",
    "    def __init__(self, departamento='', **kwargs):\n",
    "        # Utilizamos super() para heredar correctamente\n",
    "        super().__init__(**kwargs)\n",
    "        self.departamento = departamento\n",
    "        self.num_cursos = 3\n",
    "\n",
    "# Aquí decimos que Academico hereda tanto de Docente como de Investigador\n",
    "class Academico(Docente, Investigador):\n",
    "    \n",
    "    def __init__(self, nombre, oficina, **kwargs):\n",
    "        # Utilizamos super() para heredar correctamente\n",
    "        super().__init__(**kwargs)\n",
    "        self.nombre = nombre\n",
    "        self.oficina = oficina\n",
    "\n",
    "\n",
    "p1 = Academico(\n",
    "    \"Emilia Donoso\",\n",
    "    oficina=\"O5\",\n",
    "    area=\"Inteligencia de Máquina\",\n",
    "    departamento=\"Ciencia De La Computación\"\n",
    ")\n",
    "print(p1.nombre)\n",
    "print(p1.area)\n",
    "print(p1.departamento)"
   ]
  },
  {
   "cell_type": "markdown",
   "id": "6e20ad46",
   "metadata": {},
   "source": [
    "**Observación:** Si no utilizamos el super(), tendremos un problema en el diamante, solicitando mas de una vez object por ejemplo"
   ]
  },
  {
   "cell_type": "markdown",
   "id": "7991b614",
   "metadata": {},
   "source": [
    "### Obteniendo el orden de herencia: el método `__mro__`\n",
    "Para ver el orden de la multitare podemos ocupar el siguiente metodo"
   ]
  },
  {
   "cell_type": "code",
   "execution_count": 10,
   "id": "7c362393",
   "metadata": {},
   "outputs": [
    {
     "data": {
      "text/plain": [
       "(__main__.Academico, __main__.Docente, __main__.Investigador, object)"
      ]
     },
     "execution_count": 10,
     "metadata": {},
     "output_type": "execute_result"
    }
   ],
   "source": [
    "Academico.__mro__"
   ]
  },
  {
   "cell_type": "markdown",
   "id": "b76d2638",
   "metadata": {},
   "source": [
    "![Diamante](img/OOP_multiherencia2.png)"
   ]
  },
  {
   "cell_type": "markdown",
   "id": "3fe7d794",
   "metadata": {},
   "source": [
    "Si no ocupamos kwargs  y args se produce un dilemao: aunque entreguemos todos los argumentos a `super().__init__()`, ninguno de los inicializadores sabe cuáles argumentos son para él, y cuáles para otro inicializador. Pero Python provee una solución a través de `*args` y `**kwargs`:\n",
    "\n",
    "* `**kwargs` es una *secuencia de argumentos de largo variable*, donde cada elemento de la lista tiene asociado un ***keyword***. El `**` mapea los elementos contenidos en el diccionario `kwargs` y los pasa a la función como _argumentos no posicionales_. Esto significa que los argumentos no se asignan a la función por su posición en el orden en que se entregan (como es lo habitual) sino por su _keyword_ asociado. De ahí el nombre _kwargs_ o _keyword arguments_. El `**kwargs` puede ser usado para enviar una cantidad variable de argumentos.\n",
    "* `*args` es un mecanismo similar. `*args`, es una lista de argumentos de largo variable, pero sin *keywords* asociados. El operador `*` desempaqueta el contenido de args y los pasa a la función como argumentos posicionales. La función asigna valores a sus argumentos a partir del orden que trae esta lista.\n",
    "\n",
    "Recuerda que si bien nos hemos referido todo el tiempo a `*args` y `**kwargs`, los _operadores_ reales son `*` y `**` que indican respectivamente *desempaquetamiento de secuencias iterables* (listas, tuplas), y *desempaquetamiento de diccionarios*. Los nombres que usamos `args` y `kwargs` son convenciones. \n"
   ]
  },
  {
   "cell_type": "markdown",
   "id": "50068564",
   "metadata": {},
   "source": [
    "# Clases Abstractas\n",
    "Las clases abstractas en un lenguaje de programación nos permiten representar mejor lo que son las clases realmente abstractas desde el punto de vista del modelamiento. Por abstracta, nos referimos a que son clases cuya intención no es ser instanciada (o crear un objeto de esa clase directamente), si no que solo usarse como parte de modelamiento de otras clases.\n",
    "Por ejemplo, la clase `Mamifero` representa algo abstracto, no tiene forma específica, pero sí describe otras clases concretas, como `Perro`, `Humano` y `Ballena`."
   ]
  },
  {
   "cell_type": "markdown",
   "id": "c533ffb2",
   "metadata": {},
   "source": [
    "La sintaxis base de Python no tiene una forma de definir clases abstractas, pero sí existe el módulo `abc` (\"Abstract Base Classes\") que nos provee herramientas para hacerlo. Mediante la clase `ABC` y el decorador `abstractmethod` es posible definir una clase abstracta:"
   ]
  },
  {
   "cell_type": "code",
   "execution_count": 11,
   "id": "ccdf0492",
   "metadata": {},
   "outputs": [],
   "source": [
    "from abc import ABC, abstractmethod\n",
    "\n",
    "\n",
    "class Base(ABC):\n",
    "\n",
    "    @abstractmethod\n",
    "    def metodo_1(self):\n",
    "        pass\n",
    "\n",
    "    @abstractmethod\n",
    "    def metodo_2(self):\n",
    "        pass"
   ]
  },
  {
   "cell_type": "markdown",
   "id": "5e140e60",
   "metadata": {},
   "source": [
    "Si intentamos instanciar la clase recién definida, obtenemos un error. Pero si creamos una clase que herede de `Base` e implemente sus métodos no hay problemas."
   ]
  }
 ],
 "metadata": {
  "kernelspec": {
   "display_name": "Python 3 (ipykernel)",
   "language": "python",
   "name": "python3"
  },
  "language_info": {
   "codemirror_mode": {
    "name": "ipython",
    "version": 3
   },
   "file_extension": ".py",
   "mimetype": "text/x-python",
   "name": "python",
   "nbconvert_exporter": "python",
   "pygments_lexer": "ipython3",
   "version": "3.10.10"
  }
 },
 "nbformat": 4,
 "nbformat_minor": 5
}
