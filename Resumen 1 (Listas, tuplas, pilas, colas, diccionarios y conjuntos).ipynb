{
 "cells": [
  {
   "cell_type": "markdown",
   "id": "8f84df3f",
   "metadata": {},
   "source": [
    "<p>\n",
    "<font size='5' face='Georgia, Arial'>IIC2233 Resumen Programación Avanzada</font><br>\n",
    "<font size='1'>Matías Oliva.</font>\n",
    "<br>\n",
    "</p>"
   ]
  },
  {
   "cell_type": "markdown",
   "id": "79940632",
   "metadata": {},
   "source": [
    "# Estructuras de datos *built-in* en Python\n"
   ]
  },
  {
   "cell_type": "markdown",
   "id": "9e27af56",
   "metadata": {},
   "source": [
    "Python posee varias estructuras de datos ya implementadas (*built-in*) para el manejo eficiente de datos\n",
    "\n",
    "Existen las estructuras de datos **secuenciales**, que **mantienen un orden entre sus elementos**:\n",
    "* **listas** (*lists*)\n",
    "* **tuplas** (*tuples*)\n",
    "* **pilas** (*stacks*) \n",
    "* **colas** (*queue*)\n",
    "\n",
    "y las que **no mantienen un orden establecido**,.\n",
    "\n",
    "* **diccionarios** (*dictionaries*)\n",
    "* **conjuntos** (*sets*)"
   ]
  },
  {
   "cell_type": "markdown",
   "id": "73cb4149",
   "metadata": {},
   "source": [
    "# Tuplas"
   ]
  },
  {
   "cell_type": "markdown",
   "id": "bfb6070c",
   "metadata": {},
   "source": [
    "Las **tuplas** (`tuple`) se utilizan para manejar datos de forma **ordenada** e **inmutable**, es decir, no se pueden cambiar los valores que contiene."
   ]
  },
  {
   "cell_type": "code",
   "execution_count": 1,
   "id": "55329fd5",
   "metadata": {},
   "outputs": [],
   "source": [
    "# Usando tuple() sin ingresar elementos, se crea una tupla vacía.\n",
    "a = tuple()\n",
    "\n",
    "# Declarando explícitamente los elementos de la tupla, ingresándolos entre paréntesis.\n",
    "b = (0, 1, 2)\n",
    "\n",
    "# Cuando creamos una tupla de tamaño 1, debemos incluir una coma al final\n",
    "c = (0, )\n",
    "\n",
    "# Pueden ser creadas con objetos de distinto tipo. Al momento de la creación se pueden omitir los paréntesis.\n",
    "d = 0, 'uno'"
   ]
  },
  {
   "cell_type": "markdown",
   "id": "0c2cd074",
   "metadata": {},
   "source": [
    "***Observación:*** Los elementos mutables que se encuentren dentro de una tupla si pueden ser modificados."
   ]
  },
  {
   "cell_type": "markdown",
   "id": "972e4d02",
   "metadata": {},
   "source": [
    "### *Slicing* de tuplas\n",
    "\n",
    "Es posible tomar secciones de la tupla usando la notación de ***slicing***."
   ]
  },
  {
   "cell_type": "markdown",
   "id": "bde1dbce",
   "metadata": {},
   "source": [
    "Forma general de hacer *slicing* en Python:\n",
    "\n",
    "- `a[start:end]`: retorna los elementos desde `start` hasta `end - 1`.\n",
    "\n",
    "- `a[start:]`: retorna los elementos desde `start` hasta el final del arreglo.\n",
    "\n",
    "- `a[:end]`: retorna los elementos desde el principio hasta `end - 1`.\n",
    "\n",
    "- `a[:]`: crea una copia (*shallow*) del arreglo completo. Es decir, el arreglo retornado está en una nueva dirección de memoria, pero los elementos que están en este nuevo arreglo, hacen referencia a la dirección de memoria de los elementos del arreglo inicial.\n",
    "\n",
    "- `a[start:end:step]`: retorna los elementos desde `start` hasta no pasar `end`, en pasos de a `step`.\n",
    "\n",
    "- `a[-1]`: retorna el último elemento en el arreglo.\n",
    "\n",
    "- `a[-n:]`: retorna los últimos `n` elementos en el arreglo.\n",
    "\n",
    "- `a[:-n]`: retorna todos los elementos del arreglo menos los últimos `n` elementos."
   ]
  },
  {
   "cell_type": "markdown",
   "id": "6691e31c",
   "metadata": {},
   "source": [
    "# *Named tuples*"
   ]
  },
  {
   "cell_type": "markdown",
   "id": "f6f8cb1b",
   "metadata": {},
   "source": [
    "Los [*named tuples*](https://docs.python.org/3/library/collections.html#collections.namedtuple) son estructuras que permiten definir campos para cada una de las posiciones en que han sido ingresados los datos. Generalmente, se utilizan como alternativa a las clases cuando los datos no tienen un comportamiento asociado. \n",
    "\n",
    "Para poder hacer uso de esta estructura se requiere importar el módulo `namedtuple` desde la librería `collections`. "
   ]
  },
  {
   "cell_type": "code",
   "execution_count": 2,
   "id": "92c249b5",
   "metadata": {},
   "outputs": [
    {
     "name": "stdout",
     "output_type": "stream",
     "text": [
      "13427974-5\n",
      "5\n",
      "<class '__main__.Register_type'>\n"
     ]
    }
   ],
   "source": [
    "from collections import namedtuple\n",
    "\n",
    "\n",
    "# Asignamos un nombre a la tupla (Register_type), y los nombres de los atributos que tendrá\n",
    "Register = namedtuple('Register_type', ['RUT', 'name', 'age'])\n",
    "\n",
    "# Instanciación e inicialización de la tupla\n",
    "c1 = Register('13427974-5', 'Christian', 20)\n",
    "c2 = Register('23066987-2', 'Dante', 5)\n",
    "\n",
    "print(c1.RUT)\n",
    "print(c2.age)\n",
    "print(type(c2))"
   ]
  },
  {
   "cell_type": "markdown",
   "id": "1a538b31",
   "metadata": {},
   "source": [
    "# Listas"
   ]
  },
  {
   "cell_type": "markdown",
   "id": "efab8f1a",
   "metadata": {},
   "source": [
    "Las **listas** (`list`) se utilizan para manejar datos de forma **ordenada** y **mutable**. Los contenidos pueden ser accedidos utilizando el índice correspondiente al orden en que se encuentran en la lista. A diferencia de las tuplas, el *orden* de los elementos de una lista, y *los elementos mismos* pueden cambiar mediante métodos que manipulan la lista.\n",
    "\n",
    "\n",
    "Operanciones principales en las listas:"
   ]
  },
  {
   "cell_type": "markdown",
   "id": "fd63ab32",
   "metadata": {},
   "source": [
    "\n",
    "| Operación                                  | Código Python            |Descripción                                           |\n",
    "|--------------------------------------------|--------------------------|------------------------------------------------------|\n",
    "| Crear *lista*                              | `lista = [] o list()`    |Crea un *lista* vacío                                 |\n",
    "| *Append*                         | `lista.append(elemento)` |Agrega un elemento al tope de la *lista*              |\n",
    "| *Extend*                     | `lista.extend()`         |Agrega una la lista completa y no cada elemento de forma individual |\n",
    "| *length*                                   | `len(lista)`             |Retorna la cantidad de elementos en la *lista*        |\n",
    "| *Insert*                                | `lista.insert(posición, elemento)`        |Inserta elementos en posiciones específicas |"
   ]
  },
  {
   "cell_type": "markdown",
   "id": "c349e5ed",
   "metadata": {},
   "source": [
    "### Listas por comprensión"
   ]
  },
  {
   "cell_type": "markdown",
   "id": "26072ee8",
   "metadata": {},
   "source": [
    "Las listas por comprensión se pueden ver como listas formadas por un conjunto de objetos que cumplen con un concepto o condición en particular."
   ]
  },
  {
   "cell_type": "code",
   "execution_count": 3,
   "id": "b55c337c",
   "metadata": {},
   "outputs": [
    {
     "ename": "NameError",
     "evalue": "name 'bandas' is not defined",
     "output_type": "error",
     "traceback": [
      "\u001b[1;31m---------------------------------------------------------------------------\u001b[0m",
      "\u001b[1;31mNameError\u001b[0m                                 Traceback (most recent call last)",
      "Cell \u001b[1;32mIn[3], line 3\u001b[0m\n\u001b[0;32m      1\u001b[0m largo_de_bandas \u001b[38;5;241m=\u001b[39m []\n\u001b[1;32m----> 3\u001b[0m \u001b[38;5;28;01mfor\u001b[39;00m nombre \u001b[38;5;129;01min\u001b[39;00m \u001b[43mbandas\u001b[49m:\n\u001b[0;32m      4\u001b[0m     largo_de_bandas\u001b[38;5;241m.\u001b[39mappend(\u001b[38;5;28mlen\u001b[39m(nombre))\n\u001b[0;32m      6\u001b[0m \u001b[38;5;28mprint\u001b[39m(largo_de_bandas)\n",
      "\u001b[1;31mNameError\u001b[0m: name 'bandas' is not defined"
     ]
    }
   ],
   "source": [
    "largo_de_bandas = []\n",
    "\n",
    "for nombre in bandas:\n",
    "    largo_de_bandas.append(len(nombre))\n",
    "\n",
    "print(largo_de_bandas)"
   ]
  },
  {
   "cell_type": "markdown",
   "id": "b39797fc",
   "metadata": {},
   "source": [
    "Usando **listas por comprensión**, podemos definir lo mismo de forma más clara y concisa siguiendo la siguiente sintaxis:\n",
    "\n",
    "`nueva_lista = [expresión for elemento in lista]`"
   ]
  },
  {
   "cell_type": "code",
   "execution_count": null,
   "id": "5e029c1f",
   "metadata": {},
   "outputs": [],
   "source": [
    "largo_de_bandas = [len(nombre) for nombre in bandas]\n",
    "\n",
    "print(largo_de_bandas)"
   ]
  },
  {
   "cell_type": "markdown",
   "id": "64e695f5",
   "metadata": {},
   "source": [
    "La sentencia `if` se puede usar dentro de una lista por comprensión para construir la lista incluyendo solamente los elementos que cumplan una cierta condición. \n",
    "\n",
    "`nueva_lista = [expresión for elemento in lista if condición]`"
   ]
  },
  {
   "cell_type": "code",
   "execution_count": null,
   "id": "bf145284",
   "metadata": {},
   "outputs": [],
   "source": [
    "bandas_con_nombre_corto = [nombre for nombre in bandas if len(nombre) < 10]\n",
    "\n",
    "print(bandas_con_nombre_corto)"
   ]
  },
  {
   "cell_type": "markdown",
   "id": "a8847e5d",
   "metadata": {},
   "source": [
    "# *Stacks*\n",
    "\n",
    "Un *stack* es una estructura de datos que funciona como si fuera una pila de objetos, uno arriba del otro. En donde siempre sacaremos el último que hayamos puesto. \n",
    "\n",
    "Un *stack* tiene tres operaciones básicas:\n",
    "\n",
    "- ***Push***: Agrega un elemento al tope del *stack*.\n",
    "- ***Pop***: Elimina el elemento que está en el tope del *stack*. Esto siempre sacará el último elemento que haya sido agregado.\n",
    "- ***peek*** Sólo muestra el elemento que está en el tope sin sacarlo del *stack*."
   ]
  },
  {
   "cell_type": "markdown",
   "id": "e5742b55",
   "metadata": {},
   "source": [
    "\n",
    "| Operación                                  | Código Python            |Descripción                                           |\n",
    "|--------------------------------------------|--------------------------|------------------------------------------------------|\n",
    "| Crear *stack*                              | `stack = []`             |Crea un *stack* vacío                                 |\n",
    "| *Push*                                     | `stack.append(elemento)` |Agrega un elemento al tope del *stack*                |\n",
    "| *Pop*                                      | `stack.pop()`            |Retorna y extrae el elemento del tope del *stack*     |\n",
    "| *Peek*                                     | `stack[-1]`              |Retorna el elemento del tope del *stack* sin extraerlo|\n",
    "| *length*                                   | `len(stack)`             |Retorna la cantidad de elementos en el *stack*        |\n",
    "| *is\\_empty*                                | `len(stack) == 0`        |Retorna `true` si el *stack* está vacío               |"
   ]
  },
  {
   "cell_type": "code",
   "execution_count": null,
   "id": "cd70c73d",
   "metadata": {},
   "outputs": [],
   "source": []
  }
 ],
 "metadata": {
  "kernelspec": {
   "display_name": "Python 3 (ipykernel)",
   "language": "python",
   "name": "python3"
  },
  "language_info": {
   "codemirror_mode": {
    "name": "ipython",
    "version": 3
   },
   "file_extension": ".py",
   "mimetype": "text/x-python",
   "name": "python",
   "nbconvert_exporter": "python",
   "pygments_lexer": "ipython3",
   "version": "3.10.10"
  }
 },
 "nbformat": 4,
 "nbformat_minor": 5
}
